{
 "cells": [
  {
   "attachments": {},
   "cell_type": "markdown",
   "metadata": {},
   "source": [
    "# Basic Model Interface (BMI) for streamflow routing using t-route"
   ]
  },
  {
   "attachments": {},
   "cell_type": "markdown",
   "metadata": {},
   "source": [
    "This t-route network was developed for use in the Next Generation National Water Model (Nextgen). Nextgen runs models with Basic Model Interface (BMI)."
   ]
  },
  {
   "cell_type": "code",
   "execution_count": 32,
   "metadata": {},
   "outputs": [],
   "source": [
    "import sys\n",
    "\n",
    "sys.path.append(\"src/\")\n",
    "import bmi_troute # This is the BMI t-route that we will be running from the file: bmi_troute.py \n",
    "import nwm_routing.__main__ as tr\n",
    "#import troute.nhd_preprocess as nhd_prep # This is used to read q_lateral data from files, won't be needed when t-route bmi is run with model engine"
   ]
  },
  {
   "cell_type": "code",
   "execution_count": 33,
   "metadata": {},
   "outputs": [],
   "source": [
    "model = bmi_troute.bmi_troute()\n",
    "model.initialize(bmi_cfg_file='test/BMI/test_MC_bmi.yaml')"
   ]
  },
  {
   "cell_type": "code",
   "execution_count": 34,
   "metadata": {},
   "outputs": [
    {
     "data": {
      "text/plain": [
       "300"
      ]
     },
     "execution_count": 34,
     "metadata": {},
     "output_type": "execute_result"
    }
   ],
   "source": [
    "model.get_time_step()"
   ]
  },
  {
   "cell_type": "code",
   "execution_count": 35,
   "metadata": {},
   "outputs": [],
   "source": [
    "run_sets = model._network.build_forcing_sets()\n",
    "model._network.assemble_forcings(run_sets[0],)\n",
    "\n"
   ]
  },
  {
   "cell_type": "code",
   "execution_count": 36,
   "metadata": {},
   "outputs": [],
   "source": [
    "model.set_value('land_surface_water_source__volume_flow_rate', model._network.qlateral.to_numpy())\n",
    "#model.set_value('coastal_boundary__depth', coastal_boundary_depth_df.to_numpy())\n",
    "#model.set_value('usgs_gage_observation__volume_flow_rate', data_assimilation.reservoir_usgs_df.to_numpy())\n",
    "#model.set_value('usace_gage_observation__volume_flow_rate', src)\n",
    "#model.set_value('rfc_gage_observation__volume_flow_rate', src)"
   ]
  },
  {
   "cell_type": "code",
   "execution_count": 37,
   "metadata": {},
   "outputs": [
    {
     "name": "stderr",
     "output_type": "stream",
     "text": [
      "/home/sean.horvath/projects/t-route/src/troute-routing/troute/routing/compute.py:1098: FutureWarning: The default dtype for empty Series will be 'object' instead of 'float64' in a future version. Specify a dtype explicitly to silence this warning.\n",
      "  lastobs_df_sub.get(\"lastobs_discharge\", pd.Series(index=lastobs_df_sub.index, name=\"Null\")).values.astype(\"float32\"),\n",
      "/home/sean.horvath/projects/t-route/src/troute-routing/troute/routing/compute.py:1099: FutureWarning: The default dtype for empty Series will be 'object' instead of 'float64' in a future version. Specify a dtype explicitly to silence this warning.\n",
      "  lastobs_df_sub.get(\"time_since_lastobs\", pd.Series(index=lastobs_df_sub.index, name=\"Null\")).values.astype(\"float32\"),\n"
     ]
    }
   ],
   "source": [
    "model.update()"
   ]
  },
  {
   "cell_type": "code",
   "execution_count": 38,
   "metadata": {},
   "outputs": [
    {
     "data": {
      "text/plain": [
       "10236    1494929.000\n",
       "10237    1460805.000\n",
       "10245    1079974.375\n",
       "Name: (11, q), dtype: float32"
      ]
     },
     "execution_count": 38,
     "metadata": {},
     "output_type": "execute_result"
    }
   ],
   "source": [
    "model.get_value('channel_exit_water_x-section__volume_flow_rate')"
   ]
  },
  {
   "cell_type": "code",
   "execution_count": 39,
   "metadata": {},
   "outputs": [
    {
     "data": {
      "text/plain": [
       "3600.0"
      ]
     },
     "execution_count": 39,
     "metadata": {},
     "output_type": "execute_result"
    }
   ],
   "source": [
    "model.get_current_time()"
   ]
  },
  {
   "cell_type": "code",
   "execution_count": 42,
   "metadata": {},
   "outputs": [],
   "source": [
    "model.initialize(bmi_cfg_file='test/BMI/test_MC_bmi.yaml')"
   ]
  },
  {
   "cell_type": "code",
   "execution_count": 43,
   "metadata": {},
   "outputs": [],
   "source": [
    "run_sets = model._network.build_forcing_sets()\n",
    "model._network.assemble_forcings(run_sets[0],)"
   ]
  },
  {
   "cell_type": "code",
   "execution_count": 44,
   "metadata": {},
   "outputs": [],
   "source": [
    "\n",
    "model.set_value('land_surface_water_source__volume_flow_rate', model._network.qlateral.to_numpy())\n",
    "#model.set_value('coastal_boundary__depth', coastal_boundary_depth_df.to_numpy())\n",
    "#model.set_value('usgs_gage_observation__volume_flow_rate', src)\n",
    "#model.set_value('usace_gage_observation__volume_flow_rate', src)\n",
    "#model.set_value('rfc_gage_observation__volume_flow_rate', src)"
   ]
  },
  {
   "cell_type": "code",
   "execution_count": 45,
   "metadata": {},
   "outputs": [
    {
     "name": "stderr",
     "output_type": "stream",
     "text": [
      "/home/sean.horvath/projects/t-route/src/troute-routing/troute/routing/compute.py:1098: FutureWarning: The default dtype for empty Series will be 'object' instead of 'float64' in a future version. Specify a dtype explicitly to silence this warning.\n",
      "  lastobs_df_sub.get(\"lastobs_discharge\", pd.Series(index=lastobs_df_sub.index, name=\"Null\")).values.astype(\"float32\"),\n",
      "/home/sean.horvath/projects/t-route/src/troute-routing/troute/routing/compute.py:1099: FutureWarning: The default dtype for empty Series will be 'object' instead of 'float64' in a future version. Specify a dtype explicitly to silence this warning.\n",
      "  lastobs_df_sub.get(\"time_since_lastobs\", pd.Series(index=lastobs_df_sub.index, name=\"Null\")).values.astype(\"float32\"),\n"
     ]
    }
   ],
   "source": [
    "model.update_until(1800) # input value is seconds. 1800s = 0.5 hours"
   ]
  },
  {
   "cell_type": "code",
   "execution_count": 46,
   "metadata": {},
   "outputs": [
    {
     "data": {
      "text/plain": [
       "1800.0"
      ]
     },
     "execution_count": 46,
     "metadata": {},
     "output_type": "execute_result"
    }
   ],
   "source": [
    "model.get_current_time()"
   ]
  },
  {
   "cell_type": "code",
   "execution_count": 47,
   "metadata": {},
   "outputs": [
    {
     "data": {
      "text/plain": [
       "10236    150371.281250\n",
       "10237    137978.265625\n",
       "10245    309930.093750\n",
       "Name: (5, q), dtype: float32"
      ]
     },
     "execution_count": 47,
     "metadata": {},
     "output_type": "execute_result"
    }
   ],
   "source": [
    "\n",
    "model.get_value('channel_exit_water_x-section__volume_flow_rate')"
   ]
  },
  {
   "cell_type": "code",
   "execution_count": 48,
   "metadata": {},
   "outputs": [
    {
     "name": "stderr",
     "output_type": "stream",
     "text": [
      "/home/sean.horvath/projects/t-route/src/troute-routing/troute/routing/compute.py:1098: FutureWarning: The default dtype for empty Series will be 'object' instead of 'float64' in a future version. Specify a dtype explicitly to silence this warning.\n",
      "  lastobs_df_sub.get(\"lastobs_discharge\", pd.Series(index=lastobs_df_sub.index, name=\"Null\")).values.astype(\"float32\"),\n",
      "/home/sean.horvath/projects/t-route/src/troute-routing/troute/routing/compute.py:1099: FutureWarning: The default dtype for empty Series will be 'object' instead of 'float64' in a future version. Specify a dtype explicitly to silence this warning.\n",
      "  lastobs_df_sub.get(\"time_since_lastobs\", pd.Series(index=lastobs_df_sub.index, name=\"Null\")).values.astype(\"float32\"),\n"
     ]
    }
   ],
   "source": [
    "\n",
    "model.update()"
   ]
  },
  {
   "cell_type": "code",
   "execution_count": 49,
   "metadata": {},
   "outputs": [
    {
     "data": {
      "text/plain": [
       "3600.0"
      ]
     },
     "execution_count": 49,
     "metadata": {},
     "output_type": "execute_result"
    }
   ],
   "source": [
    "model.get_current_time()"
   ]
  },
  {
   "cell_type": "code",
   "execution_count": 50,
   "metadata": {},
   "outputs": [
    {
     "data": {
      "text/plain": [
       "10236    1494929.000\n",
       "10237    1460805.000\n",
       "10245    1079974.375\n",
       "Name: (5, q), dtype: float32"
      ]
     },
     "execution_count": 50,
     "metadata": {},
     "output_type": "execute_result"
    }
   ],
   "source": [
    "model.get_value('channel_exit_water_x-section__volume_flow_rate')"
   ]
  },
  {
   "cell_type": "code",
   "execution_count": 51,
   "metadata": {},
   "outputs": [],
   "source": [
    "model.finalize()"
   ]
  },
  {
   "cell_type": "code",
   "execution_count": null,
   "metadata": {},
   "outputs": [],
   "source": []
  }
 ],
 "metadata": {
  "kernelspec": {
   "display_name": "base",
   "language": "python",
   "name": "python3"
  },
  "language_info": {
   "codemirror_mode": {
    "name": "ipython",
    "version": 3
   },
   "file_extension": ".py",
   "mimetype": "text/x-python",
   "name": "python",
   "nbconvert_exporter": "python",
   "pygments_lexer": "ipython3",
   "version": "3.9.13"
  },
  "orig_nbformat": 4,
  "vscode": {
   "interpreter": {
    "hash": "12887d5693013c73b261c01dd694613bce200432b55f9875791adf3abafc7c64"
   }
  }
 },
 "nbformat": 4,
 "nbformat_minor": 2
}
