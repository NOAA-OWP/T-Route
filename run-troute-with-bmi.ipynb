{
 "cells": [
  {
   "cell_type": "markdown",
   "id": "7b663e55-9edb-40a7-ae1d-380880c6d077",
   "metadata": {},
   "source": [
    "# Basic Model Interface (BMI) for streamflow routing using t-route"
   ]
  },
  {
   "cell_type": "markdown",
   "id": "9d8b1e3b-38e3-421a-b7d0-beafca9c853e",
   "metadata": {},
   "source": [
    "This t-route network was developed for use in the Next Generation National Water Model (Nextgen). Nextgen runs models with Basic Model Interface (BMI)."
   ]
  },
  {
   "cell_type": "code",
   "execution_count": 1,
   "id": "0708364e-4ecf-4fb1-bad4-78ec60c9a1c3",
   "metadata": {},
   "outputs": [],
   "source": [
    "sys.path.append(\"src/\")\n",
    "import bmi_troute # This is the BMI t-route that we will be running from the file: bmi_troute.py \n",
    "import troute.main_utilities as mu # This is used to read q_lateral data from files, won't be needed when t-route bmi is run with model engine\n",
    "import troute.nhd_preprocess as nhd_prep # This is used to read q_lateral data from files, won't be needed when t-route bmi is run with model engine"
   ]
  },
  {
   "cell_type": "code",
   "execution_count": 2,
   "id": "a53b4945-7966-4df4-a788-fe997fb711f7",
   "metadata": {},
   "outputs": [],
   "source": [
    "model = bmi_troute.bmi_troute()"
   ]
  },
  {
   "cell_type": "code",
   "execution_count": 3,
   "id": "a2ededa4-6bd9-474a-b014-f104867428f7",
   "metadata": {},
   "outputs": [
    {
     "name": "stdout",
     "output_type": "stream",
     "text": [
      "creating supernetwork connections set\n",
      "supernetwork connections set complete\n",
      "setting waterbody and channel initial states ...\n",
      "waterbody and channel initial states complete\n"
     ]
    }
   ],
   "source": [
    "model.initialize(bmi_cfg_file='test/BMI/test_AnA_bmi.yaml')"
   ]
  },
  {
   "cell_type": "code",
   "execution_count": 4,
   "id": "eb34934c-afe4-47a5-9f81-8029ef0453e9",
   "metadata": {},
   "outputs": [],
   "source": [
    "(run_sets, da_sets, parity_sets) = mu.build_run_sets(model._network,\n",
    "                                                     model._forcing_parameters,\n",
    "                                                     model._compute_parameters, \n",
    "                                                     model._data_assimilation_parameters,\n",
    "                                                     model._output_parameters,\n",
    "                                                     model._parity_parameters)\n",
    "\n",
    "q_lateral, coastal_boundary_depth_df = nhd_prep.nhd_forcing(run_sets[0], \n",
    "                                                            model._forcing_parameters, \n",
    "                                                            model._hybrid_parameters,\n",
    "                                                            model._network.segment_index,\n",
    "                                                            model._compute_parameters.get('cpu_pool', None),\n",
    "                                                            model._network._t0,             \n",
    "                                                            model._network._coastal_boundary_depth_df,\n",
    "        )\n",
    "\n",
    "data_assimilation = mu.build_data_assimilation(model._network,\n",
    "                                               model._data_assimilation_parameters,\n",
    "                                               model._waterbody_parameters,\n",
    "                                               [], #da_sets[0],\n",
    "                                               model._forcing_parameters,\n",
    "                                               model._compute_parameters)"
   ]
  },
  {
   "cell_type": "code",
   "execution_count": 5,
   "id": "d3661d08-1340-4765-a676-53ca361d72ba",
   "metadata": {},
   "outputs": [],
   "source": [
    "model.set_value('land_surface_water_source__volume_flow_rate', q_lateral.to_numpy())\n",
    "#model.set_value('coastal_boundary__depth', coastal_boundary_depth_df.to_numpy())\n",
    "#model.set_value('usgs_gage_observation__volume_flow_rate', data_assimilation.reservoir_usgs_df.to_numpy())\n",
    "#model.set_value('usace_gage_observation__volume_flow_rate', src)\n",
    "#model.set_value('rfc_gage_observation__volume_flow_rate', src)"
   ]
  },
  {
   "cell_type": "code",
   "execution_count": 6,
   "id": "954fe3a0-e75f-4629-af6d-5b8ba9e9428c",
   "metadata": {},
   "outputs": [],
   "source": [
    "model.update()"
   ]
  },
  {
   "cell_type": "code",
   "execution_count": 7,
   "id": "e71a7f52-8bd2-44b5-950e-bc9e6de515ae",
   "metadata": {},
   "outputs": [
    {
     "data": {
      "text/plain": [
       "1611674      0.000091\n",
       "1611676      0.000085\n",
       "3763126      0.034257\n",
       "3762962      0.002928\n",
       "3762964      0.001314\n",
       "               ...   \n",
       "942080042    0.303696\n",
       "942080043    0.763048\n",
       "942080044    3.949975\n",
       "942080045    1.003813\n",
       "942090009    0.022306\n",
       "Name: (11, q), Length: 10806, dtype: float32"
      ]
     },
     "execution_count": 7,
     "metadata": {},
     "output_type": "execute_result"
    }
   ],
   "source": [
    "model.get_value('channel_exit_water_x-section__volume_flow_rate')"
   ]
  },
  {
   "cell_type": "code",
   "execution_count": 8,
   "id": "616ba1d9-56eb-4903-b6e4-e854f127f02f",
   "metadata": {},
   "outputs": [
    {
     "data": {
      "text/plain": [
       "3600.0"
      ]
     },
     "execution_count": 8,
     "metadata": {},
     "output_type": "execute_result"
    }
   ],
   "source": [
    "model.get_current_time()"
   ]
  },
  {
   "cell_type": "markdown",
   "id": "b6ba0ea6-3545-4fb4-a820-8dd519d260b0",
   "metadata": {},
   "source": [
    "Now utilize the update_until() function to run t-route for only a portion of the total time"
   ]
  },
  {
   "cell_type": "code",
   "execution_count": 9,
   "id": "9cb21c69-1638-45ad-82d7-258cb69f5d21",
   "metadata": {},
   "outputs": [
    {
     "name": "stdout",
     "output_type": "stream",
     "text": [
      "creating supernetwork connections set\n",
      "supernetwork connections set complete\n",
      "setting waterbody and channel initial states ...\n",
      "waterbody and channel initial states complete\n"
     ]
    }
   ],
   "source": [
    "model.initialize(bmi_cfg_file='test/BMI/test_AnA_bmi.yaml')"
   ]
  },
  {
   "cell_type": "code",
   "execution_count": 10,
   "id": "adae192f-6058-4647-b074-e5d891732fd5",
   "metadata": {},
   "outputs": [],
   "source": [
    "model.set_value('land_surface_water_source__volume_flow_rate', q_lateral.to_numpy())\n",
    "#model.set_value('coastal_boundary__depth', coastal_boundary_depth_df.to_numpy())\n",
    "#model.set_value('usgs_gage_observation__volume_flow_rate', src)\n",
    "#model.set_value('usace_gage_observation__volume_flow_rate', src)\n",
    "#model.set_value('rfc_gage_observation__volume_flow_rate', src)"
   ]
  },
  {
   "cell_type": "code",
   "execution_count": 11,
   "id": "98cab86c-a288-4ddb-95c4-75323dad1b7f",
   "metadata": {},
   "outputs": [],
   "source": [
    "model.update_until(1800) # input value is seconds. 1800s = 0.5 hours"
   ]
  },
  {
   "cell_type": "code",
   "execution_count": 12,
   "id": "690ef259-be43-4c07-808b-f4cd2c5ede77",
   "metadata": {},
   "outputs": [
    {
     "data": {
      "text/plain": [
       "1800.0"
      ]
     },
     "execution_count": 12,
     "metadata": {},
     "output_type": "execute_result"
    }
   ],
   "source": [
    "model.get_current_time()"
   ]
  },
  {
   "cell_type": "code",
   "execution_count": 13,
   "id": "55af3e52-f9ec-46c4-8f75-5c53784f48a2",
   "metadata": {},
   "outputs": [
    {
     "data": {
      "text/plain": [
       "1611674      0.000084\n",
       "1611676      0.000083\n",
       "3763126      0.034257\n",
       "3762962      0.002928\n",
       "3762964      0.001314\n",
       "               ...   \n",
       "942080042    0.303720\n",
       "942080043    0.763046\n",
       "942080044    3.948903\n",
       "942080045    1.003609\n",
       "942090009    0.022577\n",
       "Name: (5, q), Length: 10806, dtype: float32"
      ]
     },
     "execution_count": 13,
     "metadata": {},
     "output_type": "execute_result"
    }
   ],
   "source": [
    "model.get_value('channel_exit_water_x-section__volume_flow_rate')"
   ]
  },
  {
   "cell_type": "markdown",
   "id": "268d9452-5083-4996-b910-bbcf031ff0ae",
   "metadata": {},
   "source": [
    "Now call update() to run t-route for the remainder of the full model run"
   ]
  },
  {
   "cell_type": "code",
   "execution_count": 14,
   "id": "52902573-41ae-40c9-b3dc-e790ead208c3",
   "metadata": {},
   "outputs": [],
   "source": [
    "model.update()"
   ]
  },
  {
   "cell_type": "code",
   "execution_count": 15,
   "id": "92c0e23c-0c0b-401c-9f31-ea41f8b11aa8",
   "metadata": {},
   "outputs": [
    {
     "data": {
      "text/plain": [
       "3600.0"
      ]
     },
     "execution_count": 15,
     "metadata": {},
     "output_type": "execute_result"
    }
   ],
   "source": [
    "model.get_current_time()"
   ]
  },
  {
   "cell_type": "code",
   "execution_count": 16,
   "id": "4c618714-0415-4aa2-a5d6-c49c582f008d",
   "metadata": {},
   "outputs": [
    {
     "data": {
      "text/plain": [
       "1611674      0.000091\n",
       "1611676      0.000085\n",
       "3763126      0.034257\n",
       "3762962      0.002928\n",
       "3762964      0.001314\n",
       "               ...   \n",
       "942080042    0.303696\n",
       "942080043    0.763048\n",
       "942080044    3.949975\n",
       "942080045    1.003813\n",
       "942090009    0.022306\n",
       "Name: (5, q), Length: 10806, dtype: float32"
      ]
     },
     "execution_count": 16,
     "metadata": {},
     "output_type": "execute_result"
    }
   ],
   "source": [
    "model.get_value('channel_exit_water_x-section__volume_flow_rate')"
   ]
  },
  {
   "cell_type": "markdown",
   "id": "95b79ad7-9b56-4f93-b150-1d6e53d65d94",
   "metadata": {},
   "source": [
    "Finalize the model by deleting all internal objects"
   ]
  },
  {
   "cell_type": "code",
   "execution_count": null,
   "id": "9479d297-9664-4942-8274-ecef63b45b79",
   "metadata": {},
   "outputs": [],
   "source": [
    "model.finalize()"
   ]
  }
 ],
 "metadata": {
  "kernelspec": {
   "display_name": "Python [conda env:miniconda3]",
   "language": "python",
   "name": "conda-env-miniconda3-py"
  },
  "language_info": {
   "codemirror_mode": {
    "name": "ipython",
    "version": 3
   },
   "file_extension": ".py",
   "mimetype": "text/x-python",
   "name": "python",
   "nbconvert_exporter": "python",
   "pygments_lexer": "ipython3",
   "version": "3.9.7"
  }
 },
 "nbformat": 4,
 "nbformat_minor": 5
}
