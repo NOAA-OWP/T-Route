{
 "cells": [
  {
   "attachments": {},
   "cell_type": "markdown",
   "metadata": {},
   "source": [
    "# Basic Model Interface (BMI) for streamflow routing using t-route"
   ]
  },
  {
   "attachments": {},
   "cell_type": "markdown",
   "metadata": {},
   "source": [
    "This t-route network was developed for use in the Next Generation National Water Model (Nextgen). Nextgen runs models with Basic Model Interface (BMI)."
   ]
  },
  {
   "cell_type": "code",
   "execution_count": 1,
   "metadata": {},
   "outputs": [],
   "source": [
    "import sys\n",
    "\n",
    "sys.path.append(\"src/\")\n",
    "import bmi_troute # This is the BMI t-route that we will be running from the file: bmi_troute.py \n",
    "import nwm_routing.__main__ as tr\n",
    "#import troute.nhd_preprocess as nhd_prep # This is used to read q_lateral data from files, won't be needed when t-route bmi is run with model engine"
   ]
  },
  {
   "cell_type": "code",
   "execution_count": 3,
   "metadata": {},
   "outputs": [
    {
     "data": {
      "text/plain": [
       "<module 'bmi_troute' from '/home/sean.horvath/projects/t-route/src/bmi_troute.py'>"
      ]
     },
     "execution_count": 3,
     "metadata": {},
     "output_type": "execute_result"
    }
   ],
   "source": [
    "model = bmi_troute.bmi_troute()\n",
    "model.initialize(bmi_cfg_file='test/BMI/test_AnA_bmi.yaml')"
   ]
  },
  {
   "cell_type": "code",
   "execution_count": null,
   "metadata": {},
   "outputs": [],
   "source": [
    "(run_sets, da_sets, parity_sets) = mu.build_run_sets(model._network,\n",
    "                                                     model._forcing_parameters,\n",
    "                                                     model._compute_parameters, \n",
    "                                                     model._data_assimilation_parameters,\n",
    "                                                     model._output_parameters,\n",
    "                                                     model._parity_parameters)\n",
    "\n",
    "q_lateral, coastal_boundary_depth_df = nhd_prep.nhd_forcing(run_sets[0], \n",
    "                                                            model._forcing_parameters, \n",
    "                                                            model._hybrid_parameters,\n",
    "                                                            model._network.segment_index,\n",
    "                                                            model._compute_parameters.get('cpu_pool', None),\n",
    "                                                            model._network._t0,             \n",
    "                                                            model._network._coastal_boundary_depth_df,\n",
    "        )\n",
    "\n",
    "data_assimilation = mu.build_data_assimilation(model._network,\n",
    "                                               model._data_assimilation_parameters,\n",
    "                                               model._waterbody_parameters,\n",
    "                                               [], #da_sets[0],\n",
    "                                               model._forcing_parameters,\n",
    "                                               model._compute_parameters)"
   ]
  },
  {
   "cell_type": "code",
   "execution_count": null,
   "metadata": {},
   "outputs": [],
   "source": [
    "model.set_value('land_surface_water_source__volume_flow_rate', q_lateral.to_numpy())\n",
    "#model.set_value('coastal_boundary__depth', coastal_boundary_depth_df.to_numpy())\n",
    "#model.set_value('usgs_gage_observation__volume_flow_rate', data_assimilation.reservoir_usgs_df.to_numpy())\n",
    "#model.set_value('usace_gage_observation__volume_flow_rate', src)\n",
    "#model.set_value('rfc_gage_observation__volume_flow_rate', src)"
   ]
  },
  {
   "cell_type": "code",
   "execution_count": null,
   "metadata": {},
   "outputs": [],
   "source": [
    "model.update()"
   ]
  },
  {
   "cell_type": "code",
   "execution_count": null,
   "metadata": {},
   "outputs": [],
   "source": [
    "model.get_value('channel_exit_water_x-section__volume_flow_rate')"
   ]
  },
  {
   "cell_type": "code",
   "execution_count": null,
   "metadata": {},
   "outputs": [],
   "source": [
    "model.get_current_time()"
   ]
  },
  {
   "cell_type": "code",
   "execution_count": null,
   "metadata": {},
   "outputs": [],
   "source": [
    "model.initialize(bmi_cfg_file='test/BMI/test_AnA_bmi.yaml')"
   ]
  },
  {
   "cell_type": "code",
   "execution_count": null,
   "metadata": {},
   "outputs": [],
   "source": [
    "\n",
    "model.set_value('land_surface_water_source__volume_flow_rate', q_lateral.to_numpy())\n",
    "#model.set_value('coastal_boundary__depth', coastal_boundary_depth_df.to_numpy())\n",
    "#model.set_value('usgs_gage_observation__volume_flow_rate', src)\n",
    "#model.set_value('usace_gage_observation__volume_flow_rate', src)\n",
    "#model.set_value('rfc_gage_observation__volume_flow_rate', src)"
   ]
  },
  {
   "cell_type": "code",
   "execution_count": null,
   "metadata": {},
   "outputs": [],
   "source": [
    "model.update_until(1800) # input value is seconds. 1800s = 0.5 hours"
   ]
  },
  {
   "cell_type": "code",
   "execution_count": null,
   "metadata": {},
   "outputs": [],
   "source": [
    "model.get_current_time()"
   ]
  },
  {
   "cell_type": "code",
   "execution_count": null,
   "metadata": {},
   "outputs": [],
   "source": [
    "\n",
    "model.get_value('channel_exit_water_x-section__volume_flow_rate')"
   ]
  },
  {
   "cell_type": "code",
   "execution_count": null,
   "metadata": {},
   "outputs": [],
   "source": [
    "\n",
    "model.update()"
   ]
  },
  {
   "cell_type": "code",
   "execution_count": null,
   "metadata": {},
   "outputs": [],
   "source": [
    "model.get_current_time()"
   ]
  },
  {
   "cell_type": "code",
   "execution_count": null,
   "metadata": {},
   "outputs": [],
   "source": [
    "model.get_value('channel_exit_water_x-section__volume_flow_rate')"
   ]
  },
  {
   "cell_type": "code",
   "execution_count": null,
   "metadata": {},
   "outputs": [],
   "source": [
    "model.finalize()"
   ]
  }
 ],
 "metadata": {
  "kernelspec": {
   "display_name": "base",
   "language": "python",
   "name": "python3"
  },
  "language_info": {
   "codemirror_mode": {
    "name": "ipython",
    "version": 3
   },
   "file_extension": ".py",
   "mimetype": "text/x-python",
   "name": "python",
   "nbconvert_exporter": "python",
   "pygments_lexer": "ipython3",
   "version": "3.9.13"
  },
  "orig_nbformat": 4,
  "vscode": {
   "interpreter": {
    "hash": "12887d5693013c73b261c01dd694613bce200432b55f9875791adf3abafc7c64"
   }
  }
 },
 "nbformat": 4,
 "nbformat_minor": 2
}
