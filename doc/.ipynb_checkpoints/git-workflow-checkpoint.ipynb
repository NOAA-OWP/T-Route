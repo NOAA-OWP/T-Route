{
 "cells": [
  {
   "cell_type": "markdown",
   "metadata": {},
   "source": [
    "- First, I \"forked\" the t-route repo. This was a point and click process done by navigating the repo webpage on GitHub\n",
    "- Second, I \"cloned\" the repo down to my local work environment: `git clone  https://github.com/awlostowski-noaa/t-route.git`\n",
    "- Third, I set up global level configurations: `git config --global user.name \"awlostowski-noaa\"` and `git config --global user.email \"adam.wlostowski@noaa.gov\"`. This likely should have been done first. Becuase this was an update to the global configurations, I shouldn't need to do it more than once. \n",
    "- Fourth, I set up a \"remote\" connection to my forked version of the t-route repo. The remote name is origin, branch master: `git remote add origin https://github.com/awlostowski-noaa/t-route.git`. `origin` is the name of the remote connection. \n",
    "- Fifth, I set up an \"upstream\" \"remote\" connection to the NOAA-OWP/t-route, which is the \"big-kahuna\" project directoty that I am helping to develop: `git remote add upstream https://github.com/NOAA-OWP/t-route.git`. \n",
    "    - honestly, I don't really know what the \"upstream\" remote is for. Is it to ensure that all changes pushed to the `upstream/master` can be synched with my fork?\n",
    "    - To manually merge changes in the upstream (big-kahuna) to my fork:`git fetch upstream` \n",
    "        - !!!! what is `upstream/master`?\n",
    "- Sixth, I created a new \"branch\": `git branch <new-branch-name>`. I named my new branch \"doc-notebook\" becuase I would like to create some new model documentation in it. \n",
    "- Seventh, I accessed my newly created branch with the \"checkout\" command: `git checkout doc-notebook`. The git checkout command lets you navigate between the branches created by git branch. Checking out a branch updates the files in the working directory to match the version stored in that branch, and it tells Git to record all new commits on that branch. Think of it as a way to select which line of development you’re working on. credit: https://www.atlassian.com/git/tutorials/using-branches/git-checkout\n",
    "- Eigth, I created a new and empty python notebook file. \n",
    "- Ninth, I \"added\" the changes to the staging area\" `git add .`\n",
    "- Tenth, I \"commited\" the added changes `git commit -m \"unique message here\"`. Note becuase I have the `doc-notebook` branch checked out, the commit will be reflected in that branch only, not the master. \n",
    "- Eleventh, I \"pushed\" the changes to the branch. \n",
    "    - is it best practivce to open a \"pull request\" here. I need to learn more about pull requests, what they do and when they are needed. "
   ]
  },
  {
   "cell_type": "code",
   "execution_count": null,
   "metadata": {},
   "outputs": [],
   "source": []
  }
 ],
 "metadata": {
  "kernelspec": {
   "display_name": "Python 3",
   "language": "python",
   "name": "python3"
  },
  "language_info": {
   "codemirror_mode": {
    "name": "ipython",
    "version": 3
   },
   "file_extension": ".py",
   "mimetype": "text/x-python",
   "name": "python",
   "nbconvert_exporter": "python",
   "pygments_lexer": "ipython3",
   "version": "3.8.2"
  }
 },
 "nbformat": 4,
 "nbformat_minor": 4
}
