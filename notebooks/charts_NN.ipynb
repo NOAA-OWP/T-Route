{
 "cells": [
  {
   "cell_type": "markdown",
   "metadata": {},
   "source": [
    "# original run for base comparison "
   ]
  },
  {
   "cell_type": "code",
   "execution_count": null,
   "metadata": {},
   "outputs": [],
   "source": [
    "import numpy as np\n",
    "AL = np.array([3, 4, 5, 6, 7, 8])\n",
    "ME = np.array([0.20268109937496484, 0.07513280531344935, 0.054584207193925975, 6.844923238876462, 0.046978489187033845, 0.04717999519519508])\n",
    "MAXE = np.array([0.9061954617500305, 0.934795618057251, 0.95142662525177, 126.01708221435547, 0.9391598105430603, 0.976489245891571])\n",
    "MRE = np.array([3.4287970855531973, 1.3368865713272686, 0.877841625036777, 117.83358426566608, 0.8505344261442443, 0.9377797476524922])\n",
    "MAXRE = np.array([7366.098330241188, 4491.970011210762, 326.86271201353986, 99059.52292419919, 470.44296212200993, 1867.224782483985])"
   ]
  },
  {
   "cell_type": "code",
   "execution_count": null,
   "metadata": {},
   "outputs": [],
   "source": [
    "# import numpy as np\n",
    "# AL = np.array([3, 4, 5, 6, 7, 8])\n",
    "# ME = [0.2001535939699039, 0.08218166573904455, 0.049210785150621085, 69.78489951921254, 0.047346311381785196, 0.04085965702766552]\n",
    "# MAXE = [0.9822900891304016, 1.0906074047088623, 0.9558153748512268, 1627.43359375, 0.9791008830070496, 0.9539886116981506]\n",
    "# MRE = [2.8268548301132292, 1.4226246851364421, 0.932224533217416, 1738.9471668959727, 0.8141616723673156, 0.7735262025159526]\n",
    "# MAXRE = [1037.6329162904683, 3571.6484062370637, 2653.9771671826625, 7619446.157249006, 571.5627403156284, 512.9816373857412]\n"
   ]
  },
  {
   "cell_type": "code",
   "execution_count": null,
   "metadata": {},
   "outputs": [],
   "source": [
    "# import numpy as np\n",
    "# AL = np.array([3, 4, 5, 7, 8])\n",
    "# ME = np.array([0.20268109937496484, 0.07513280531344935, 0.054584207193925975,  0.046978489187033845, 0.04717999519519508])\n",
    "# MAXE = np.array([0.9061954617500305, 0.934795618057251, 0.95142662525177,  0.9391598105430603, 0.976489245891571])\n",
    "# MRE = np.array([3.4287970855531973, 1.3368865713272686, 0.877841625036777,  0.8505344261442443, 0.9377797476524922])\n",
    "# MAXRE = np.array([7366.098330241188, 4491.970011210762, 326.86271201353986, 470.44296212200993, 1867.224782483985])"
   ]
  },
  {
   "cell_type": "code",
   "execution_count": null,
   "metadata": {},
   "outputs": [],
   "source": [
    "import matplotlib as plt\n",
    "from pylab import *\n",
    "\n",
    "plt.plot(AL, ME, label='Mean Error')\n",
    "plt.legend()"
   ]
  },
  {
   "cell_type": "code",
   "execution_count": null,
   "metadata": {},
   "outputs": [],
   "source": [
    "plt.plot(AL, MAXE, label='Max Error')\n",
    "plt.legend()"
   ]
  },
  {
   "cell_type": "code",
   "execution_count": null,
   "metadata": {},
   "outputs": [],
   "source": [
    "plt.plot(AL, MRE, label='Mean Relative Error')\n",
    "plt.legend()"
   ]
  },
  {
   "cell_type": "code",
   "execution_count": null,
   "metadata": {},
   "outputs": [],
   "source": [
    "\n",
    "plt.plot(AL, MAXRE, label='Max Relative Error')\n",
    "plt.legend()"
   ]
  },
  {
   "cell_type": "markdown",
   "metadata": {},
   "source": [
    "# changed loss function from percentage accuracy to MSE"
   ]
  },
  {
   "cell_type": "code",
   "execution_count": null,
   "metadata": {},
   "outputs": [],
   "source": [
    "AL = np.array([3, 4, 5, 6, 7, 8])\n",
    "ME =[0.18829826562553645, 0.06295773839578032, 0.04706121651697904, 0.034231288265436886, 0.033835919296368956, 0.03357507065199315]\n",
    "MAXE=[0.9226499199867249, 0.8670799136161804, 0.8694612979888916, 0.9764913320541382, 0.7473850250244141, 1.070185899734497]\n",
    "MRE=[3.1255803731893197, 1.0480694615251955, 0.7844798368402656, 2.065445285595824, 0.6696124388864533, 0.7428967260748975]\n",
    "MAXRE=[5214.103145846737, 459.4415195991047, 316.5150445154003, 39671.520661157025, 385.8606184331279, 1343.285159798497]\n",
    "\n",
    "plt.plot(AL, ME, label='Mean Error')\n",
    "plt.legend()\n",
    "\n"
   ]
  },
  {
   "cell_type": "code",
   "execution_count": null,
   "metadata": {},
   "outputs": [],
   "source": [
    "plt.plot(AL, MAXE, label='Max Error')\n",
    "plt.legend()\n",
    "\n"
   ]
  },
  {
   "cell_type": "code",
   "execution_count": null,
   "metadata": {},
   "outputs": [],
   "source": [
    "\n",
    "plt.plot(AL, MRE, label='Mean Relative Error')\n",
    "plt.legend()\n",
    "\n"
   ]
  },
  {
   "cell_type": "code",
   "execution_count": null,
   "metadata": {},
   "outputs": [],
   "source": [
    "\n",
    "\n",
    "plt.plot(AL, MAXRE, label='Max Relative Error')\n",
    "plt.legend()"
   ]
  },
  {
   "cell_type": "markdown",
   "metadata": {},
   "source": [
    "# added an addition layer of 256 and 128\n",
    "\n"
   ]
  },
  {
   "cell_type": "code",
   "execution_count": null,
   "metadata": {},
   "outputs": [],
   "source": [
    "AL = [3, 4, 5, 6, 7]\n",
    "ME=[0.18141888631358744, 0.06448774244375527, 0.04024506342113018, 0.02739674736633897, 0.021045374700427055]\n",
    "MAXE=[1.064255952835083, 0.9516879320144653, 0.9409056305885315, 0.9025273323059082, 0.9405709505081177]\n",
    "MRE=[2.780992702750022, 1.0269446365680999, 0.7778441098209199, 0.6978825482245378, 0.7486257890633566]\n",
    "MAXRE=[3876.107149321267, 318.9238147758226, 778.5877743152802, 1198.962475002941, 6202.950711214025]\n",
    "\n"
   ]
  },
  {
   "cell_type": "raw",
   "metadata": {},
   "source": [
    "plt.plot(AL, ME, label='Mean Error')\n",
    "plt.legend()\n"
   ]
  },
  {
   "cell_type": "code",
   "execution_count": null,
   "metadata": {},
   "outputs": [],
   "source": [
    "\n",
    "plt.plot(AL, MAXE, label='Max Error')\n",
    "plt.legend()\n"
   ]
  },
  {
   "cell_type": "code",
   "execution_count": null,
   "metadata": {},
   "outputs": [],
   "source": [
    "\n",
    "plt.plot(AL, MRE, label='Mean Relative Error')\n",
    "plt.legend()\n"
   ]
  },
  {
   "cell_type": "markdown",
   "metadata": {},
   "source": [
    "# increased val size to 10000000 from 100000 couldnt do array of size 8 \n"
   ]
  },
  {
   "cell_type": "code",
   "execution_count": null,
   "metadata": {},
   "outputs": [],
   "source": [
    "AL=[3, 4, 5, 6, 7]\n",
    "ME=[0.20548738902062177, 0.07147870124233886, 0.04434685417972505, 0.03225354767367244, 0.033126413787528876]\n",
    "MAXE=[0.8817650675773621, 0.9691476821899414, 0.9010177254676819, 0.9404672384262085, 0.9785908460617065]\n",
    "MRE=[3.956916163176089, 1.3601315533995584, 0.7523044271770947, 1.3304872458566872, 0.7238505392545149]\n",
    "MAXRE=[15624.849200633731, 2597.528799019608, 321.8331082787164, 11689.711111111112, 1746.4263587721769]\n",
    "\n",
    "plt.plot(AL, ME, label='Mean Error')\n",
    "plt.legend()\n"
   ]
  },
  {
   "cell_type": "code",
   "execution_count": null,
   "metadata": {},
   "outputs": [],
   "source": [
    "\n",
    "plt.plot(AL, MAXE, label='Max Error')\n",
    "plt.legend()\n"
   ]
  },
  {
   "cell_type": "code",
   "execution_count": null,
   "metadata": {},
   "outputs": [],
   "source": [
    "\n",
    "plt.plot(AL, MRE, label='Mean Relative Error')\n",
    "plt.legend()\n"
   ]
  },
  {
   "cell_type": "code",
   "execution_count": null,
   "metadata": {},
   "outputs": [],
   "source": [
    "\n",
    "plt.plot(AL, MAXRE, label='Max Relative Error')\n",
    "plt.legend()"
   ]
  },
  {
   "cell_type": "markdown",
   "metadata": {},
   "source": [
    "# larger validation dataset and more layers"
   ]
  },
  {
   "cell_type": "code",
   "execution_count": null,
   "metadata": {},
   "outputs": [],
   "source": [
    "AL=[3, 4, 5, 6, 7]\n",
    "ME=[0.18536182001903653, 0.061901425808109346, 0.04083433280549943, 0.030081778507307172, 0.023336397083103658]\n",
    "MAXE=[0.984460175037384, 0.9429601430892944, 0.8688046932220459, 0.982650637626648, 0.9610739946365356]\n",
    "MRE=[3.064324179039945, 1.0052443787781347, 0.872540304318686, 0.5802126112312623, 0.7869879877465081]\n",
    "MAXRE=[5139.1620111731845, 499.5783172597273, 739.906929057614, 356.55484171914424, 5004.18244013683]\n"
   ]
  },
  {
   "cell_type": "code",
   "execution_count": null,
   "metadata": {},
   "outputs": [],
   "source": [
    "plt.plot(AL, ME, label='Mean Error')\n",
    "plt.legend()\n"
   ]
  },
  {
   "cell_type": "code",
   "execution_count": null,
   "metadata": {},
   "outputs": [],
   "source": [
    "\n",
    "plt.plot(AL, MAXE, label='Max Error')\n",
    "plt.legend()\n"
   ]
  },
  {
   "cell_type": "code",
   "execution_count": null,
   "metadata": {},
   "outputs": [],
   "source": [
    "\n",
    "plt.plot(AL, MRE, label='Mean Relative Error')\n",
    "plt.legend()\n"
   ]
  },
  {
   "cell_type": "code",
   "execution_count": null,
   "metadata": {},
   "outputs": [],
   "source": [
    "\n",
    "plt.plot(AL, MAXRE, label='Max Relative Error')\n",
    "plt.legend()"
   ]
  }
 ],
 "metadata": {
  "kernelspec": {
   "display_name": "Python 3",
   "language": "python",
   "name": "python3"
  },
  "language_info": {
   "codemirror_mode": {
    "name": "ipython",
    "version": 3
   },
   "file_extension": ".py",
   "mimetype": "text/x-python",
   "name": "python",
   "nbconvert_exporter": "python",
   "pygments_lexer": "ipython3",
   "version": "3.6.8"
  }
 },
 "nbformat": 4,
 "nbformat_minor": 4
}
