{
 "cells": [
  {
   "cell_type": "markdown",
   "metadata": {},
   "source": [
    "## 1. Introduction\n",
    "This notebook demonstrates a super simple, but potentially super useful function to find elements of the nwm network based on their GNIS name. \n",
    "\n",
    "The scripts used to develop the GNIS names table used in this script have not been maintained and we are working on updating them, so, for the meantime, we must warn that any results from this tool are to be considered only partially reproducible.  \n",
    "\n",
    "## 2. First steps\n",
    "Import basic libraries, set a root path, get connected to the repository if operating on colab, and set the path search directory."
   ]
  },
  {
   "cell_type": "code",
   "execution_count": null,
   "metadata": {},
   "outputs": [],
   "source": [
    "import sys\n",
    "import os\n",
    "import pathlib\n",
    "import json\n",
    "import xarray as xr\n",
    "import pandas as pd\n",
    "\n",
    "try:\n",
    "    import google.colab\n",
    "\n",
    "    ENV_IS_CL = True\n",
    "    root = pathlib.Path(\"/content/t-route\").resolve()\n",
    "    subprocess.run([\"git\", \"clone\", \"https://github.com/NOAA-OWP/t-route.git\"])\n",
    "except:\n",
    "    root = pathlib.Path(\"..\").resolve()\n",
    "sys.path.append(os.path.join(root, \"src\", \"python_framework_v02\"))\n"
   ]
  },
  {
   "cell_type": "markdown",
   "metadata": {},
   "source": [
    "## 3. Import named segments\n",
    "### 3a. Import the raw .json file\n",
    "This file is a dictionary organized as:\n",
    "```\n",
    "{\"Name of River as Key Value\":[list,of,nwm,link,ids,with,that,name],\n",
    " \"Another Name River\":[xxxx,yyyy,etc.]}\n",
    "```\n",
    "That structure minimizes duplication. However, it should be noted that it also means that every Sand Creek is listed under the same `\"Sand Creek\"` key and that care must be taken in interpreting the results."
   ]
  },
  {
   "cell_type": "code",
   "execution_count": null,
   "metadata": {},
   "outputs": [],
   "source": [
    "json_names_path = os.path.join(\n",
    "    root, r\"test\", \"input\", \"json\", r\"nwm_reaches_conus_v21_wgnis_name.json\",\n",
    ")\n",
    "\n",
    "with open(json_names_path, \"r\") as json_file:\n",
    "    names = json.load(json_file)\n",
    "    if names:\n",
    "        print(f\"success!! -- imported {len(names)} GNIS names from the table.\")\n"
   ]
  },
  {
   "cell_type": "markdown",
   "metadata": {},
   "source": [
    "### 3b. Convert the names into a dataframe keyed on segment id"
   ]
  },
  {
   "cell_type": "code",
   "execution_count": null,
   "metadata": {},
   "outputs": [],
   "source": [
    "ids_wnames = {}\n",
    "for name, ids in names.items():\n",
    "    for id in ids:\n",
    "        ids_wnames[id] = name\n",
    "\n",
    "ids_wnames_df = pd.DataFrame.from_dict(ids_wnames, orient=\"index\", columns=[\"name\"])\n"
   ]
  },
  {
   "cell_type": "markdown",
   "metadata": {},
   "source": [
    "## 4. Import the NWM segments \n",
    "### 4a. Import the raw table (a.k.a. 'the Route/Link' file) as a dataframe\n",
    "This is the same file used for driving the channel computations of the National Water Model. Other scripts in this repository will download it automatically for you in the background -- here, we're just a little more practical: if you don't have it, just do this: \n",
    "```\n",
    "export ROUTELINK=\"RouteLink_NHDPLUS.nc\"\n",
    "wget -c https://www.nco.ncep.noaa.gov/pmb/codes/nwprod/nwm.v2.0.2/parm/domain/$ROUTELINK\n",
    "nccopy -d1 -s $ROUTELINK ${ROUTELINK/\\.nc/_compressed.nc}\n",
    "```\n",
    "Then copy the resulting file into the `geo_file_path` given below."
   ]
  },
  {
   "cell_type": "code",
   "execution_count": null,
   "metadata": {},
   "outputs": [],
   "source": [
    "geo_file_path = os.path.join(root, \"test\", \"input\", \"geo\", \"Channels\",)\n",
    "\n",
    "full_nc_path = os.path.join(geo_file_path, \"RouteLink_NHDPLUS.nwm.v2.0.2.nc\",)\n",
    "\n",
    "key_col = \"link\"\n",
    "\n",
    "rows = None\n",
    "rows = (xr.open_dataset(full_nc_path)).to_dataframe()\n",
    "rows = rows.set_index([key_col])\n",
    "if rows is not None:\n",
    "    print(f\"success!! -- created dataframe with {len(rows)} nwm segments.\")\n"
   ]
  },
  {
   "cell_type": "markdown",
   "metadata": {},
   "source": [
    "### 4b. Build a graph representation of the segment table\n",
    "This takes as second -- first we pick out the two columns we want it the table -- `to` and `Length` -- then we crush the sub-set dataframe into a dictionary indexed by segment and with sub dictionary elements giving the lenght and downstream connection, like this:\n",
    "```\n",
    "{ Segment ID: {'to': downstream_segment_id, 'Length': segment_length},\n",
    "    12582913: {'to': 12582911, 'Length': 1203.0},\n",
    "    20971522: {'to': 20971524, 'Length': 16.0},\n",
    "    ...\n",
    "}\n",
    "```\n",
    "We can leave the proof for later, but this represents a directed acyclic graph representation of the stream network that we can use to figure out where the network goes. In the broarder repository, we have a whole pile of tools related to this concept and perhaps we can later come back here and make sure they are all in sync. For now, this is sufficient to mention as a teaser."
   ]
  },
  {
   "cell_type": "code",
   "execution_count": null,
   "metadata": {},
   "outputs": [],
   "source": [
    "# NOTE: This is essentially the same thing provided by `get_down_connections` in networkbuilder\n",
    "# TODO: Update networkbuilder to use a dataframe as is done here.\n",
    "downstream_col = \"to\"\n",
    "length_col = \"Length\"\n",
    "\n",
    "mask_set = set(rows.index.values)\n",
    "rows_dl = rows[\n",
    "    [downstream_col, length_col]\n",
    "].copy()  # Reduce the dataframe to just the needed keys\n",
    "connections = (rows_dl.loc[mask_set]).to_dict(\"index\")\n",
    "if len(connections) == len(rows):\n",
    "    print(f\"success!! -- created dictionary DAG for nwm segments.\")\n"
   ]
  },
  {
   "cell_type": "markdown",
   "metadata": {},
   "source": [
    "## 5. Now, to process\n",
    "### 5a. Let's remind ourselves where we headed \n",
    "_Our Goal?_\n",
    "  * Find named segments tributary to the a particular named River\n",
    "\n",
    "_The general process, i.e., pseudocode?_\n",
    "  * Make a set of named segments for the river\n",
    "  * Make a set of connections pointing to the named segments\n",
    "  * Drop from that set connections that are in the river itself (i.e., segments in the river that point to the next downstream segment in the river)\n",
    "  * Optionally, drop from that set connections that don't have a name themselves\n",
    "\n",
    "Before we continue, \n",
    "### 5b. We should review what we have\n"
   ]
  },
  {
   "cell_type": "code",
   "execution_count": null,
   "metadata": {},
   "outputs": [],
   "source": [
    "print(f\"Using names table: {json_names_path}\")\n",
    "print(f\"Number of names in names table: {len(names)}\")\n",
    "print(f\"Number of unique nwm segments with names in table: {len(ids_wnames)}\")\n",
    "\n",
    "print(f\"Using nwm route-link file: {full_nc_path}\")\n",
    "print(f\"Total number of nwm segments: {len(rows)}\")\n"
   ]
  },
  {
   "cell_type": "markdown",
   "metadata": {},
   "source": [
    "### 5c. Choose a River"
   ]
  },
  {
   "cell_type": "code",
   "execution_count": null,
   "metadata": {},
   "outputs": [],
   "source": [
    "name_to_find = \"Cache la Poudre River\"\n",
    "try:\n",
    "    named_segs = names[name_to_find]\n",
    "except:\n",
    "    print(f\"{name_to_find} not found in the names table\")\n",
    "    raise ValueError\n",
    "# name_to_find = names[\"Mississippi River\"]\n",
    "# name_to_find = names[\"Missouri River\"]\n",
    "\n",
    "print(\n",
    "    f\"Found {len(named_segs)} segments in GNIS Names table with the name '{name_to_find}'\"\n",
    ")\n"
   ]
  },
  {
   "cell_type": "markdown",
   "metadata": {},
   "source": [
    "### 5d. Isolate set of nwm segments pointing to the chosen river\n",
    "(We'll remove from the set all of the self-referential segments.)"
   ]
  },
  {
   "cell_type": "code",
   "execution_count": null,
   "metadata": {},
   "outputs": [],
   "source": [
    "print(f\"Searching for tributary connections of the {name_to_find}\")\n",
    "to_named_segs = set()\n",
    "for k, v in connections.items():\n",
    "    if v[downstream_col] in named_segs:\n",
    "        to_named_segs.add(k)\n",
    "print(\n",
    "    f\"Found {len(to_named_segs)} connections pointing to the selected segments of the {name_to_find}\"\n",
    ")\n",
    "tribs = to_named_segs - set(named_segs)\n",
    "print(\n",
    "    f\"... and of those, {len(tribs)} are tributary connections, that is, other rivers flowing into the {name_to_find}\"\n",
    ")\n",
    "print(f\"(The rest, presumably, were part of the {name_to_find} itself.)\")\n"
   ]
  },
  {
   "cell_type": "markdown",
   "metadata": {},
   "source": [
    "### 5e. List the Tribs we've found, by Id and by name, if there is one"
   ]
  },
  {
   "cell_type": "code",
   "execution_count": null,
   "metadata": {},
   "outputs": [],
   "source": [
    "print(\n",
    "    f\"Found the following segments of the NWM that are tributary to the {name_to_find}\"\n",
    ")\n",
    "print(tribs)\n"
   ]
  },
  {
   "cell_type": "code",
   "execution_count": null,
   "metadata": {},
   "outputs": [],
   "source": [
    "named_tribs = tribs & set(ids_wnames_df.index)\n",
    "print(f\"Of the {len(tribs)} tributary segments, {len(named_tribs)} have names.\")\n"
   ]
  },
  {
   "cell_type": "code",
   "execution_count": null,
   "metadata": {},
   "outputs": [],
   "source": [
    "print(\n",
    "    f\"The nwm segments that are the downstream-most portion of named rivers directly tributary to the {name_to_find} are:\"\n",
    ")\n",
    "print(named_tribs)\n"
   ]
  },
  {
   "cell_type": "code",
   "execution_count": null,
   "metadata": {},
   "outputs": [],
   "source": [
    "print(f\"...or listed by name\")\n",
    "named_tribs_wnames = {trib: ids_wnames[trib] for trib in named_tribs}\n",
    "print(named_tribs_wnames)\n"
   ]
  },
  {
   "cell_type": "code",
   "execution_count": null,
   "metadata": {},
   "outputs": [],
   "source": []
  }
 ],
 "metadata": {
  "kernelspec": {
   "display_name": "Python 3",
   "language": "python",
   "name": "python3"
  },
  "language_info": {
   "codemirror_mode": {
    "name": "ipython",
    "version": 3
   },
   "file_extension": ".py",
   "mimetype": "text/x-python",
   "name": "python",
   "nbconvert_exporter": "python",
   "pygments_lexer": "ipython3",
   "version": ""
  }
 },
 "nbformat": 4,
 "nbformat_minor": 4
}
