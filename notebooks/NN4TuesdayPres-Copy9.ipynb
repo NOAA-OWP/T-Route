{
 "cells": [
  {
   "cell_type": "markdown",
   "metadata": {},
   "source": [
    "# Input variable ranges"
   ]
  },
  {
   "cell_type": "code",
   "execution_count": null,
   "metadata": {},
   "outputs": [],
   "source": [
    "\n",
    "# from os import path\n",
    "import numpy as np\n",
    "import json\n",
    "import time\n",
    "\n",
    "# singlesegment():\n",
    "array_length = 100000001    \n",
    "\n",
    "dt = 60 # Time step\n",
    "dx = 1800 # segment length\n",
    "# bw = np.linspace(0.135, 230.035, array_length, endpoint=True) # Trapezoidal bottom width\n",
    "bw = np.linspace(112.000000000000000000, 150.000000000000000000, array_length, endpoint=True) # Trapezoidal bottom width\n",
    "tw = np.linspace(150.000000000000000, 500.000000000000000, array_length, endpoint=True) # Channel top width (at bankfull)\n",
    "# twcc = np.linspace(0.67, 1150.17, array_length, endpoint=True) # Flood plain width\n",
    "# twcc = tw*  # Flood plain width tw*3\n",
    "n_manning = .028   # manning roughness of channel\n",
    "n_manning_cc = .028 # manning roughness of floodplain\n",
    "cs = np.linspace(0.085000000000000000, 2.254000000000000000, array_length, endpoint=True)# channel trapezoidal sideslope\n",
    "s0 = np.linspace(0.000010000000000, .002000000000000000, array_length, endpoint=True) # Lateral inflow in this time step\n",
    "qup = np.linspace(.010000000000000000, 1.0000000000000000, array_length, endpoint=True) # Flow from the upstream neighbor in the previous timestep\n",
    "# quc = np.linspace(10, 1000, array_length, endpoint=True) # Flow from the upstream neighbor in the current timestep \n",
    "quc = np.linspace(.010000000000000000, 1.0000000000000000, array_length, endpoint=True)  # Flow from the upstream neighbor in the current timestep \n",
    "# qdp = np.linspace(10, 1000, array_length, endpoint=True) # Flow at the current segment in the previous timestep\n",
    "qdp = np.linspace(.010000000000000000, 1.000000000000000, array_length, endpoint=True)  # Flow at the current segment in the previous timestep\n",
    "qlat = np.linspace(35.0000000000000000, 45.00000000000001, array_length, endpoint=True) # lat inflow into current segment in the current timestep\n",
    "velp = np.linspace(0.050000000000000000, .10000000000000000, array_length, endpoint=True) # Velocity in the current segment in the previous timestep NOT USED AS AN INPUT!!!\n",
    "depthp = np.linspace(0.01000000000000000 ,.0110000000000000000 , array_length, endpoint=True) # D"
   ]
  },
  {
   "cell_type": "code",
   "execution_count": null,
   "metadata": {},
   "outputs": [],
   "source": [
    "# singlesegment(dt = 60.0, # diff\n",
    "#     dx = 1800.0, # diff\n",
    "#     bw = 112.0, #small diff\n",
    "#     tw = 448.0,# small diff\n",
    "#     twcc = 623.5999755859375, # no difference\n",
    "#     n_manning = .02800000086426735, #diff\n",
    "#     n_manning_cc = .03136000037193298, # no difference\n",
    "#     cs = 1.399999976158142, # tiny diff\n",
    "#     s0 = .0017999999690800905, # big diff\n",
    "#     qlat = 40.0, # diff\n",
    "#     qup = .04598825052380562, # almost 1 to 1 with quc\n",
    "#     quc = .04598825052380562,\n",
    "#     qdp = .21487340331077576, # same as qup quc\n",
    "#     velp = .070480190217494964, # no difference\n",
    "#     depthp = 0.010033470578491688) # large diff"
   ]
  },
  {
   "cell_type": "markdown",
   "metadata": {},
   "source": [
    "# Import MC function to generate real output values"
   ]
  },
  {
   "cell_type": "code",
   "execution_count": null,
   "metadata": {},
   "outputs": [],
   "source": [
    "import sys;sys.path.append(r'../fortran_routing/mc_pylink_v00/MC_singleSeg_singleTS')\n",
    "import mc_sseg_stime_NOLOOP as mc\n",
    "\n",
    "def singlesegment(\n",
    "        dt # dt\n",
    "        , qup = None # qup can be anything\n",
    "        , quc = None # quc will not be more than a 10 percent diff than qup\n",
    "        , qlat = None # ql can be anything - key \n",
    "        , qdp = None # qdp will not be more than 20 percent diff than qup+qlat\n",
    "        , dx = None # dx fully variable \n",
    "        , bw = None # bw correlated to tw, tw always > bw\n",
    "        , tw = None # tw correlated to bw, bw always < tw\n",
    "        , twcc = None # twcc always > than tw, tw of broader floodplain\n",
    "        , n_manning = None # usually smaller than n_manning_cc\n",
    "        , n_manning_cc = None # ncc usually greater than n_manning\n",
    "        , cs = None # cs correlated to bw and tw\n",
    "        , s0 = None # s0 variable \n",
    "        , velp = None # velocity at previous time step not rel\n",
    "        , depthp = None # depth at previous time step starting point for iteration depthp = approx(y_direct(bw,n_manning,s0,avg(qup,qdp)))\n",
    "    ):\n",
    "\n",
    "    \n",
    "    \n",
    "\n",
    "    \n",
    "    # call Fortran routine\n",
    "    return mc.muskingcungenwm(\n",
    "        dt, qup, quc, qdp, qlat, dx, bw, tw, twcc\n",
    "        ,n_manning, n_manning_cc, cs, s0, velp, depthp\n",
    "    )\n",
    "    #return qdc, vel, depth\n",
    "     "
   ]
  },
  {
   "cell_type": "markdown",
   "metadata": {},
   "source": [
    "# Create random combinations of variables to feed into the network"
   ]
  },
  {
   "cell_type": "code",
   "execution_count": null,
   "metadata": {},
   "outputs": [],
   "source": [
    "import random \n",
    "from random import randint\n",
    "\n",
    "\n",
    "\n",
    "Y = []\n",
    "M = []\n",
    "# dtx = []\n",
    "# qupx = []\n",
    "# qucx = []\n",
    "# qlatx = []\n",
    "# qdpx = []\n",
    "# dxx = []\n",
    "# bwx = []\n",
    "# twx = []\n",
    "# twccx = []\n",
    "# n_manningx = []\n",
    "# n_manning_ccx = []\n",
    "# csx = []\n",
    "# s0x = []\n",
    "# velpx = []\n",
    "# depthpx = []\n",
    "\n",
    "num_samp = 1000000\n",
    "for i in range(num_samp):\n",
    "    j = randint(0,array_length-1)\n",
    "    k = randint(0,array_length-1)\n",
    "    l = randint(0,array_length-1)\n",
    "    m = randint(0,array_length-1)\n",
    "    o = randint(0,array_length-1)\n",
    "    p = randint(0,array_length-1)\n",
    "    q = randint(0,array_length-1)\n",
    "    r = randint(0,array_length-1)\n",
    "    s = randint(0,array_length-1)\n",
    "    t = randint(0,array_length-1)\n",
    "    u = randint(0,array_length-1)\n",
    "    v = randint(0,array_length-1)\n",
    "    w = randint(0,array_length-1)\n",
    "    x = randint(0,array_length-1)\n",
    "    y = randint(0,array_length-1)\n",
    "\n",
    "    M.append([dt, qup[t], quc[j], qlat[y],qdp[v],dx,  bw[l], tw[m], tw[m]*3,n_manning, n_manning_cc, cs[r], s0[s], velp[w], depthp[x]])\n",
    "#     dtx.append(dt)\n",
    "#     qupx.append(qup[t])\n",
    "#     qucx.append(quc[j])\n",
    "#     qlatx.append(qlat[y])\n",
    "#     qdpx.append(qdp[v])\n",
    "#     dxx.append(dx)\n",
    "#     bwx.append(bw[l])\n",
    "#     twx.append(tw[m])\n",
    "#     twccx.append(twcc[j])\n",
    "#     n_manningx.append(n_manning[o])\n",
    "#     n_manning_ccx.append(n_manning_cc[p])\n",
    "#     csx.append(cs[r])\n",
    "#     s0x.append(s0[s])\n",
    "#     velpx.append(velp[w])\n",
    "#     depthpx.append(depthp[x])\n",
    "dt = 60.0 # diffxxxxx\n",
    "dx = 1800.0 # diffxxxxx\n",
    "bw = 112.0 #small diffxxxxx\n",
    "tw = 448.0# small diffxxxxx\n",
    "twcc = 623.5999755859375 # no differencexxxxx\n",
    "n_manning = .02800000086426735 #diffxxxxxxx\n",
    "n_manning_cc = .03136000037193298 # no differencexxxxxxx\n",
    "cs = 1.399999976158142 # tiny diffxxxxx\n",
    "s0 = .0017999999690800905 # big diffxxxxxxxxx\n",
    "qlat = 40.0 # diffxxxx\n",
    "qup = .04598825052380562 # almost 1 to 1 with qucxxxx\n",
    "quc = .04598825052380562#xxxxxx\n",
    "qdp = .21487340331077576 # same as qup qucxxxxx\n",
    "velp = .070480190217494964 # no differencedepthp = 0.010033470578491688) # large diff\n",
    "depthp = 0.010033470578491688\n",
    "BB = []\n",
    "M.append([dt, qup, quc, qlat,qdp,dx,  bw, tw, twcc,n_manning, n_manning_cc, cs, s0, velp, depthp])\n",
    "# dtx.append(dt)\n",
    "# qupx.append(qup)\n",
    "# qucx.append(quc)\n",
    "# qlatx.append(qlat)\n",
    "# qdpx.append(qdp)\n",
    "# dxx.append(dx)\n",
    "# bwx.append(bw)\n",
    "# twx.append(tw)\n",
    "# twccx.append(twcc)\n",
    "# n_manningx.append(n_manning)\n",
    "# n_manning_ccx.append(n_manning_cc)\n",
    "# csx.append(cs)\n",
    "# s0x.append(s0)\n",
    "# velpx.append(velp)\n",
    "# depthpx.append(depthp)\n",
    "\n",
    "M = np.array(M)\n",
    "for i in range(0,len(M),1):\n",
    "    S = singlesegment(*M[i])\n",
    "    Y.append(S[0])\n",
    "Y = np.array(Y)    \n",
    "\n",
    "\n",
    "\n",
    "\n",
    "print(Y[-1])\n",
    "print(M[-1])"
   ]
  },
  {
   "cell_type": "code",
   "execution_count": null,
   "metadata": {},
   "outputs": [],
   "source": [
    "# print(qupx[-1])"
   ]
  },
  {
   "cell_type": "code",
   "execution_count": null,
   "metadata": {},
   "outputs": [],
   "source": [
    "# import sklearn.preprocessing\n",
    "# from sklearn.preprocessing import MinMaxScaler\n",
    "\n",
    "# x_scale = MinMaxScaler(feature_range=(0,1))\n",
    "\n",
    "# dtx = x_scale.fit_transform(np.array(dtx).reshape(-1,1)).reshape(num_samp+1)\n",
    "# qupx = x_scale.fit_transform(np.array(qupx).reshape(-1,1)).reshape(num_samp+1)\n",
    "# qucx = x_scale.fit_transform(np.array(qucx).reshape(-1,1)).reshape(num_samp+1)\n",
    "# qlatx = x_scale.fit_transform(np.array(qlatx).reshape(-1,1)).reshape(num_samp+1)\n",
    "# qdpx = x_scale.fit_transform(np.array(qdpx).reshape(-1,1)).reshape(num_samp+1)\n",
    "# dxx = x_scale.fit_transform(np.array(dxx).reshape(-1,1)).reshape(num_samp+1)\n",
    "# bwx = x_scale.fit_transform(np.array(bwx).reshape(-1,1)).reshape(num_samp+1)\n",
    "# twx = x_scale.fit_transform(np.array(twx).reshape(-1,1)).reshape(num_samp+1)\n",
    "# twccx = x_scale.fit_transform(np.array(twccx).reshape(-1,1)).reshape(num_samp+1)\n",
    "# n_manningx = x_scale.fit_transform(np.array(n_manningx).reshape(-1,1)).reshape(num_samp+1)\n",
    "# n_manning_ccx = x_scale.fit_transform(np.array(n_manning_ccx).reshape(-1,1)).reshape(num_samp+1)\n",
    "# csx = x_scale.fit_transform(np.array(csx).reshape(-1,1)).reshape(num_samp+1)\n",
    "# s0x = x_scale.fit_transform(np.array(s0x).reshape(-1,1)).reshape(num_samp+1)\n",
    "# velpx = x_scale.fit_transform(np.array(velpx).reshape(-1,1)).reshape(num_samp+1)\n",
    "# depthpx = x_scale.fit_transform(np.array(depthpx).reshape(-1,1)).reshape(num_samp+1)\n"
   ]
  },
  {
   "cell_type": "code",
   "execution_count": null,
   "metadata": {},
   "outputs": [],
   "source": [
    "# All_Norm = []\n",
    "# for i in range(0,len(dtx),1):\n",
    "    \n",
    "#     All_Norm.append([dtx[i],qupx[i],qucx[i],qlatx[i],qdpx[i],dxx[i],bwx[i],twx[i],twccx[i],n_manningx[i],n_manning_ccx[i],csx[i],s0x[i],velpx[i],depthpx[i]])"
   ]
  },
  {
   "cell_type": "code",
   "execution_count": null,
   "metadata": {},
   "outputs": [],
   "source": [
    "# All_Norm = np.array(All_Norm)"
   ]
  },
  {
   "cell_type": "code",
   "execution_count": null,
   "metadata": {},
   "outputs": [],
   "source": [
    "# All_Norm[-1]"
   ]
  },
  {
   "cell_type": "code",
   "execution_count": null,
   "metadata": {},
   "outputs": [],
   "source": [
    "Y[-1]"
   ]
  },
  {
   "cell_type": "code",
   "execution_count": null,
   "metadata": {},
   "outputs": [],
   "source": [
    "singlesegment(*M[-1])"
   ]
  },
  {
   "cell_type": "markdown",
   "metadata": {},
   "source": [
    "# Set aside 10% of the data for testing the rest is used for training"
   ]
  },
  {
   "cell_type": "code",
   "execution_count": null,
   "metadata": {},
   "outputs": [],
   "source": [
    "TOP = int(len(Y)*.9)\n"
   ]
  },
  {
   "cell_type": "markdown",
   "metadata": {},
   "source": [
    "\n",
    "# Normalize the data so that all values are between 0-1"
   ]
  },
  {
   "cell_type": "code",
   "execution_count": null,
   "metadata": {},
   "outputs": [],
   "source": [
    "import pandas as pd\n",
    "import numpy as np\n",
    "from sklearn.model_selection import train_test_split\n",
    "import sklearn.preprocessing\n",
    "from sklearn.preprocessing import MinMaxScaler\n",
    "\n",
    "x_scale = MinMaxScaler(feature_range=(-1,1))\n",
    "y_scale = MinMaxScaler(feature_range=(-1,1))\n",
    "\n",
    "X = x_scale.fit_transform(M)\n",
    "\n",
    "Y_norm = y_scale.fit_transform(Y.reshape(-1,1))"
   ]
  },
  {
   "cell_type": "code",
   "execution_count": null,
   "metadata": {},
   "outputs": [],
   "source": [
    "X.shape"
   ]
  },
  {
   "cell_type": "code",
   "execution_count": null,
   "metadata": {},
   "outputs": [],
   "source": [
    "Y"
   ]
  },
  {
   "cell_type": "code",
   "execution_count": null,
   "metadata": {},
   "outputs": [],
   "source": [
    "X[0:4]"
   ]
  },
  {
   "cell_type": "markdown",
   "metadata": {},
   "source": [
    "# Train the model"
   ]
  },
  {
   "cell_type": "code",
   "execution_count": null,
   "metadata": {},
   "outputs": [],
   "source": [
    "from pylab import *\n",
    "import tensorflow as tf\n",
    "from tensorflow.keras.models import Sequential\n",
    "from tensorflow.keras.layers import Dense,Dropout,BatchNormalization\n",
    "# import time\n",
    "# start_time = time.time()\n",
    "\n",
    "\n",
    "\n",
    "#Define the model\n",
    "def baseline_model():\n",
    "    model = tf.keras.Sequential()\n",
    "    model.add(Dense(256, activation=tf.nn.relu, input_shape=[15],use_bias=False))\n",
    "#     model.add(BatchNormalization())\n",
    "    model.add(Dense(128, activation='relu'))\n",
    "#     model.add(Dense(256, activation='relu'))\n",
    "#     model.add(Dense(128, activation='relu'))\n",
    "#     model.add(Dense(64, activation='relu'))\n",
    "#     model.add(Dense(32, activation='relu'))\n",
    "#     model.add(Dense(16, activation='relu'))\n",
    "    \n",
    "    model.add(Dense(1, activation = 'linear'))\n",
    "\n",
    "    model.compile(optimizer = 'adam', loss = 'mean_squared_error', metrics = ['mse','mean_absolute_error'])\n",
    "    return model\n",
    "# model.summary()\n",
    "#Use the model\n",
    "regr = baseline_model()\n",
    "\n",
    "history = regr.fit(M[:TOP], Y[:TOP], epochs=10, batch_size=10,  validation_split=0.1)\n",
    "plt.plot(history.history['mse'])\n",
    "plt.plot(history.history['val_mse'])\n",
    "\n",
    "plt.title('Model accuracy')\n",
    "plt.ylabel('MSE')\n",
    "plt.xlabel('Epoch')\n",
    "plt.legend(['MSE', 'val_mse'], loc='upper left')\n",
    "plt.show()\n",
    "# print(\"--- %s seconds ---\" % (time.time() - start_time))"
   ]
  },
  {
   "cell_type": "code",
   "execution_count": null,
   "metadata": {},
   "outputs": [],
   "source": [
    "regr.predict(M[-1:])\n"
   ]
  },
  {
   "cell_type": "code",
   "execution_count": null,
   "metadata": {},
   "outputs": [],
   "source": [
    "Y[-1]"
   ]
  },
  {
   "cell_type": "code",
   "execution_count": null,
   "metadata": {},
   "outputs": [],
   "source": [
    "%%timeit\n",
    "for i in range(1,10,1):\n",
    "    regr.predict(X[-1:])\n",
    "# singlesegment(*(M[-1:]))"
   ]
  },
  {
   "cell_type": "code",
   "execution_count": null,
   "metadata": {},
   "outputs": [],
   "source": [
    "%%timeit\n",
    "regr.predict(X[-1000000:])"
   ]
  },
  {
   "cell_type": "code",
   "execution_count": null,
   "metadata": {},
   "outputs": [],
   "source": [
    "print(*M[-1])\n",
    "f = []\n",
    "f.append(M[-1])\n",
    "print(f)\n",
    "singlesegment(*(M[-1]))"
   ]
  },
  {
   "cell_type": "code",
   "execution_count": null,
   "metadata": {},
   "outputs": [],
   "source": [
    "def MC_ML(\n",
    "        dt = None # dt\n",
    "        , qup = None # qup can be anything\n",
    "        , quc = None # quc will not be more than a 10 percent diff than qup\n",
    "        , qlat = None # ql can be anything - key \n",
    "        , qdp = None # qdp will not be more than 20 percent diff than qup+qlat\n",
    "        , dx = None # dx fully variable \n",
    "        , bw = None # bw correlated to tw, tw always > bw\n",
    "        , tw = None # tw correlated to bw, bw always < tw\n",
    "        , twcc = None # twcc always > than tw, tw of broader floodplain\n",
    "        , n_manning = None # usually smaller than n_manning_cc\n",
    "        , n_manning_cc = None # ncc usually greater than n_manning\n",
    "        , cs = None # cs correlated to bw and tw\n",
    "        , s0 = None # s0 variable \n",
    "        , velp = None # velocity at previous time step not rel\n",
    "        , depthp = None # depth at previous time step starting point for iteration depthp = approx(y_direct(bw,n_manning,s0,avg(qup,qdp)))\n",
    "    ):\n",
    "\n",
    "    \n",
    "#     print(dt, qup, quc, qdp, qlat, dx, bw, tw, twcc,n_manning, n_manning_cc, cs, s0, velp, depthp)\n",
    "\n",
    "    D=[]\n",
    "    D.append([dt, qup, quc, qlat,qdp,dx,  bw, tw, twcc,n_manning, n_manning_cc, cs, s0, velp, depthp])# \n",
    "    print(D)\n",
    "    L = np.array(D)   \n",
    "    \n",
    "#     new_model = tf.keras.models.load_model('ML_MC_PRES5')\n",
    "    print(x_scale.transform(L))\n",
    "    k = regr.predict((M[-1:]))\n",
    "    f = singlesegment(*(L[0]))\n",
    "    print(f)\n",
    "    print(k)\n"
   ]
  },
  {
   "cell_type": "code",
   "execution_count": null,
   "metadata": {},
   "outputs": [],
   "source": [
    "MC_ML(dt = 60.0,\n",
    "      qup = 0.04598825052380562,\n",
    "      quc = 0.04598825052380562,\n",
    "      qlat = 40.0,\n",
    "      qdp = 0.21487340331077576,\n",
    "      \n",
    "      dx = 1800.0,\n",
    "       bw = 112.0,\n",
    "    tw = 448.0,\n",
    "      \n",
    "    twcc = 623.5999755859375,\n",
    "    n_manning = 0.02800000086426735,\n",
    "    n_manning_cc = 0.03136000037193298,\n",
    "      \n",
    "    cs = 1.399999976158142,\n",
    "    s0 = 0.0017999999690800905,\n",
    "      velp = 0.070480190217494964,\n",
    "    depthp = 0.010033470578491688\n",
    ")\n"
   ]
  },
  {
   "cell_type": "markdown",
   "metadata": {},
   "source": [
    "# Save and load the model"
   ]
  },
  {
   "cell_type": "code",
   "execution_count": null,
   "metadata": {},
   "outputs": [],
   "source": [
    "# Save the model\n",
    "regr.save('ML_MC_PRES6',save_format='tf')\n",
    "\n",
    "# Recreate the exact same model purely from the file\n",
    "new_model = tf.keras.models.load_model('ML_MC_PRES6')\n"
   ]
  },
  {
   "cell_type": "code",
   "execution_count": null,
   "metadata": {},
   "outputs": [],
   "source": [
    "k = new_model.predict(X[-1000:])"
   ]
  },
  {
   "cell_type": "code",
   "execution_count": null,
   "metadata": {},
   "outputs": [],
   "source": [
    "F = np.reshape(Y, (1000000,1))"
   ]
  },
  {
   "cell_type": "code",
   "execution_count": null,
   "metadata": {},
   "outputs": [],
   "source": [
    "sum(abs((F[-1000:]-k))/len(k))"
   ]
  },
  {
   "cell_type": "markdown",
   "metadata": {},
   "source": [
    "# Mean error"
   ]
  },
  {
   "cell_type": "code",
   "execution_count": null,
   "metadata": {},
   "outputs": [],
   "source": [
    "#     dt = 60.0 # Time step\n",
    "#     dx = 1800.0 # segment length\n",
    "#     bw = 112.0 # Trapezoidal bottom width\n",
    "#     tw = 448.0 # Channel top width (at bankfull)\n",
    "#     twcc = 623.5999755859375 # Flood plain width\n",
    "#     n_manning = 0.02800000086426735 # manning roughness of channel\n",
    "#     n_manning_cc = 0.03136000037193298 # manning roughness of floodplain\n",
    "#     cs = 1.399999976158142 # channel trapezoidal sideslope\n",
    "#     s0 = 0.0017999999690800905 # downstream segment bed slope\n",
    "#     qlat = 40.0 # Lateral inflow in this time step\n",
    "#     qup = 0.04598825052380562 # Flow from the upstream neighbor in the previous timestep\n",
    "#     quc = 0.04598825052380562 # Flow from the upstream neighbor in the current timestep \n",
    "#     qdp = 0.21487340331077576 # Flow at the current segment in the previous timestep\n",
    "#     velp = 0.070480190217494964 # Velocity in the current segment in the previous timestep NOT USED AS AN INPUT!!!\n",
    "#     depthp = 0.010033470578491688 # Depth at the current segment in the previous timestep\n",
    "\n",
    "#     qdc_expected = 0.7570106983184814\n",
    "#     velc_expected = 0.12373604625463486\n",
    "#     depthc_expected = 0.02334451675415039\n"
   ]
  },
  {
   "cell_type": "code",
   "execution_count": null,
   "metadata": {},
   "outputs": [],
   "source": [
    "F[-1000:]"
   ]
  },
  {
   "cell_type": "code",
   "execution_count": null,
   "metadata": {},
   "outputs": [],
   "source": [
    "y_scale.inverse_transform(k)"
   ]
  },
  {
   "cell_type": "code",
   "execution_count": null,
   "metadata": {},
   "outputs": [],
   "source": [
    "singlesegment(dt = 60.0,\n",
    "    dx = 1800.0,\n",
    "    bw = 112.0,\n",
    "    tw = 448.0,\n",
    "    twcc = 623.599,\n",
    "    n_manning = 0.0280,\n",
    "    n_manning_cc = 0.03136,\n",
    "    cs = 1.399,\n",
    "    s0 = 0.0017,\n",
    "    qlat = 40.0,\n",
    "    qup = 0.0459,\n",
    "    quc = 0.04598,\n",
    "    qdp = 0.2148,\n",
    "    velp = 0.0704,\n",
    "    depthp = 0.0100)"
   ]
  },
  {
   "cell_type": "markdown",
   "metadata": {},
   "source": [
    "# Conclusions \n",
    "- we expect a decrease in the computation time compared to running the MC code and will compare results soon\n",
    "- model accuracy can be improved further\n",
    "- we can apply this type of mimicking to other processes or general predictions\n"
   ]
  },
  {
   "cell_type": "code",
   "execution_count": null,
   "metadata": {},
   "outputs": [],
   "source": [
    "# x = []\n",
    "# dt = 60.0\n",
    "# dx = 1800.0\n",
    "# bw = 112.0\n",
    "# tw = 448.0\n",
    "# twcc = 623.5999755859375\n",
    "# n_manning = 0.02800000086426735\n",
    "# n_manning_cc = 0.03136000037193298\n",
    "# cs = 1.399999976158142\n",
    "# s0 = 0.0017999999690800905\n",
    "# qlat = 40.0\n",
    "# qup = 0.04598825052380562\n",
    "# quc = 0.04598825052380562\n",
    "# qdp = 0.21487340331077576\n",
    "# velp = 0.070480190217494964\n",
    "# depthp = 0.010033470578491688\n",
    "# x.append([dt,dx,qup ,quc,qdp ,qlat ,bw ,tw ,twcc ,n_manning ,n_manning_cc ,cs, s0 ,velp ,depthp] )\n",
    "# x = list(x)\n",
    "# print(x)\n",
    "# print(x[0][0])\n",
    "# singlesegment(dt=x[0][0],dx=x[0][1],qup=x[0][2],quc=x[0][3],qdp=x[0][4],qlat=x[0][5],bw=x[0][6],tw=x[0][7],twcc=x[0][8],n_manning=x[0][9],n_manning_cc=x[0][10],cs=x[0][11],s0=x[0][12],velp=x[0][13],depthp=x[0][14])"
   ]
  },
  {
   "cell_type": "code",
   "execution_count": null,
   "metadata": {},
   "outputs": [],
   "source": []
  },
  {
   "cell_type": "code",
   "execution_count": null,
   "metadata": {},
   "outputs": [],
   "source": []
  },
  {
   "cell_type": "code",
   "execution_count": null,
   "metadata": {},
   "outputs": [],
   "source": []
  }
 ],
 "metadata": {
  "kernelspec": {
   "display_name": "Python 3",
   "language": "python",
   "name": "python3"
  },
  "language_info": {
   "codemirror_mode": {
    "name": "ipython",
    "version": 3
   },
   "file_extension": ".py",
   "mimetype": "text/x-python",
   "name": "python",
   "nbconvert_exporter": "python",
   "pygments_lexer": "ipython3",
   "version": "3.6.8"
  }
 },
 "nbformat": 4,
 "nbformat_minor": 4
}
