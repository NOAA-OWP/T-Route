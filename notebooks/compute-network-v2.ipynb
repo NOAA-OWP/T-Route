{
 "cells": [
  {
   "cell_type": "code",
   "execution_count": 1,
   "metadata": {},
   "outputs": [],
   "source": [
    "import os\n",
    "import sys\n",
    "import subprocess\n",
    "\n",
    "# logic to accomodate Google Colab\n",
    "try:\n",
    "    import google.colab\n",
    "\n",
    "    ENV_IS_CL = True\n",
    "    \n",
    "    root = r\"/content/t-route\"\n",
    "    \n",
    "    # TO DO: when ready to pull, change this to clone the t-route base repo, not branch\n",
    "    subprocess.run([\"git\", \"clone\", \"-b\", \"network-compute-notebook\",\"https://github.com/awlostowski-noaa/t-route.git\"])\n",
    "    \n",
    "    sys.path.append(\"/content/t-route/src/python_framework_v02\")\n",
    "    sys.path.append(\"/content/t-route/src/python_routing_v02\")\n",
    "    sys.path.append(\"/content/t-route/src/python_framework_v01\")\n",
    "    \n",
    "    fortran_source_dir = os.path.join(root, \"src\", \"fortran_routing\", \"mc_pylink_v00\", \"MC_singleSeg_singleTS\")\n",
    "    sys.path.append(fortran_source_dir)\n",
    "\n",
    "    ! pip install geopandas\n",
    "    ! pip install netcdf4\n",
    "\n",
    "    # build and execute cython-based routing function\n",
    "    os.chdir(\"/content/t-route/src/fortran_routing/mc_pylink_v00/MC_singleSeg_singleTS/\")\n",
    "    ! gfortran varPrecision.f90 -c -o var_precision.o -O3 -fPIC\n",
    "    ! gfortran MCsingleSegStime_f2py_NOLOOP.f90 -c -o mc_single_seg.o -O3 -fPIC\n",
    "    ! gfortran pyMCsingleSegStime_NoLoop.f90 -c -o pymc_single_seg.o -O3 -fPIC\n",
    "    ! cp *.o ../../../../src/python_routing_v02\n",
    "    os.chdir(\"/content/t-route/src/python_routing_v02/\")\n",
    "    ! cython -3 -v -p --line-directives -Wextra --cleanup 3 mc_reach.pyx\n",
    "    ! gcc -pthread -Wno-unused-result -Wsign-compare -DNDEBUG -g -fwrapv -O3 \\\n",
    "    -fno-strict-aliasing -Wall -Wstrict-prototypes -fPIC -I \\\n",
    "    /usr/local/lib/python3.6/dist-packages/numpy/core/include -I \\\n",
    "    /usr/include/python3.6 -c mc_reach.c -o mc_reach.o\n",
    "    ! gcc -pthread -shared -L /usr/lib var_precision.o mc_single_seg.o \\\n",
    "    pymc_single_seg.o mc_reach.o -lgfortran -o mc_reach.cpython-36m-x86_64-linux-gnu.so\n",
    "    \n",
    "    # code below uses subprocess.run instead of ! notation. However, I cannot get it to jive with colab at the moment. \n",
    "#     os.chdir(\"/content/t-route/src/fortran_routing/mc_pylink_v00/MC_singleSeg_singleTS/\")\n",
    "#     subprocess.run([\"gfortran\", \"varPrecision.f90\", \"-c\", \"-o\", \"var_precision.o\", \"-O3\", \"-fPIC\"])\n",
    "#     subprocess.run([\"gfortran\", \"MCsingleSegStime_f2py_NOLOOP.f90\", \"-c\", \"-o\", \"mc_single_seg.o\",\n",
    "#                     \"-O3\", \"-fPIC\"])\n",
    "#     subprocess.run([\"gfortran\", \"pyMCsingleSegStime_NoLoop.f90\", \"-c\", \"-o\", \"pymc_single_seg.o\",\n",
    "#                     \"-O3\", \"-fPIC\"])\n",
    "#     subprocess.run([\"cp\", \"*.o\", \"../../../../src/python_routing_v02\"])\n",
    "#     os.chdir(\"/content/t-route/src/python_routing_v02/\")\n",
    "#     subprocess.run([\"cython\", \"-3\", \"-v\", \"-p\", \"--line-directives\", \"-Wextra\", \"--cleanup\", \"3\",\n",
    "#                     \"mc_reach.pyx\"])\n",
    "#     subprocess.run([\"gcc\", \"-pthread\", \"-Wno-unused-result\", \"-Wsign-compare\", \"-DNDEBUG\", \"-g\",\n",
    "#                     \"-fwrapv\", \"-O3\", \"-fno-strict-aliasing\", \"-Wall\", \"-Wstrict-prototypes\",\n",
    "#                     \"-fPIC\", \"-I\", \"/usr/local/lib/python3.6/dist-packages/numpy/core/include\", \"-I\",\n",
    "#                     \"/usr/include/python3.6\", \"-c\", \"mc_reach.c\", \"-o\", \"mc_reach.o\"])\n",
    "#     subprocess.run([\"gcc\", \"-pthread\", \"-shared\", \"-L\", \"/usr/lib\", \"var_precision.o\", \"mc_single_seg.o\",\n",
    "#                     \"pymc_single_seg.o\", \"mc_reach.o\", \"-lgfortran\", \"-o\",\n",
    "#                     \"mc_reach.cpython-36m-x86_64-linux-gnu.so\"])\n",
    "\n",
    "    # change current working directory to /notebooks\n",
    "    os.chdir(\"/content/t-route/notebooks\")\n",
    "    \n",
    "except:\n",
    "    ENV_IS_CL = False\n",
    "    \n",
    "    root = os.path.dirname(os.path.abspath(\"\"))\n",
    "    fortran_source_dir = os.path.join(root, \"src\", \"fortran_routing\", \"mc_pylink_v00\", \"MC_singleSeg_singleTS\")\n",
    "    sys.path.append(fortran_source_dir)\n",
    "    sys.path.append(os.path.join(root, \"src\", \"python_framework_v02\"))\n",
    "    sys.path.append(os.path.join(root, \"src\", \"python_routing_v02\"))\n",
    "    sys.path.append(r\"../src/python_framework_v01\")\n",
    "\n",
    "# import scientific libraries\n",
    "import time\n",
    "import numpy as np\n",
    "from operator import itemgetter\n",
    "from itertools import chain, islice\n",
    "from functools import partial\n",
    "from joblib import delayed, Parallel\n",
    "import random\n",
    "import pandas as pd\n",
    "import geopandas\n",
    "import matplotlib.pyplot as plt\n",
    "import warnings; warnings.simplefilter('ignore')\n",
    "\n",
    "# network/reach utilities & routing module\n",
    "import nhd_network_utilities_v02 as nnu\n",
    "import nhd_io\n",
    "import nhd_network\n",
    "import mc_reach\n",
    "import network_dl"
   ]
  },
  {
   "cell_type": "markdown",
   "metadata": {},
   "source": [
    "# River network wave routing with t-route\n",
    "This notebook illustrates how the t-route code base routes flood waves through large river networks. We created an experiment where a  pulse of lateral inflows is uniformly applied to and routed through the CONUS mainstem supernetwork. Experiment results are visulalized for Mississippi River Basin. \n",
    "\n",
    "We begin by specifying the time domain of our experiment. We need to make sure the simulation is long enough to observe a near complete drainage of very large river basins. Additionally, the timestep should be short enough to avoid numerical instabilities and capture relevant flow variations, yet long enough to minimize the computational burden. "
   ]
  },
  {
   "cell_type": "code",
   "execution_count": 2,
   "metadata": {},
   "outputs": [
    {
     "name": "stdout",
     "output_type": "stream",
     "text": [
      "The total simulated time is 166.66666666666666 days\n"
     ]
    }
   ],
   "source": [
    "# number of simulated timesteps\n",
    "nts = 8000\n",
    "\n",
    "# duration of each timestep (seconds)\n",
    "dt = 1800\n",
    "\n",
    "print(\"The total simulated time is %s days\" % (nts * dt /60 / 60 / 24))   "
   ]
  },
  {
   "cell_type": "markdown",
   "metadata": {},
   "source": [
    "# Identify supernetwork connections\n",
    "The next step is to identify the supernetwork that we will focus on for this experiment and analyze the connectivity of individual segments in the network. Here we are using the CONUS mainstems super network. Additional details related to network analysis subroutines can be found in a companion notebook: `network-analysis.ipnyb`"
   ]
  },
  {
   "cell_type": "code",
   "execution_count": 3,
   "metadata": {},
   "outputs": [
    {
     "name": "stdout",
     "output_type": "stream",
     "text": [
      "Identifying supernetwork connections set\n",
      "supernetwork connections set created.\n"
     ]
    }
   ],
   "source": [
    "print(\"Identifying supernetwork connections set\")\n",
    "\n",
    "test_folder = os.path.join(root, r\"test\")\n",
    "geo_input_folder = os.path.join(test_folder, r\"input\", r\"geo\")\n",
    "supernetwork = 'Mainstems_CONUS'\n",
    "\n",
    "network_data = nnu.set_supernetwork_data(\n",
    "    supernetwork=supernetwork, geo_input_folder=geo_input_folder\n",
    ")\n",
    "\n",
    "# if the NHDPlus RouteLink file does not exist, download it.\n",
    "if not os.path.exists(network_data[\"geo_file_path\"]):\n",
    "    filename = os.path.basename(network_data[\"geo_file_path\"])\n",
    "    network_dl.download(network_data[\"geo_file_path\"], network_data[\"data_link\"])\n",
    "    \n",
    "# select only the necessary columns of geospatial data, set the DataFrame index\n",
    "cols = [v for c, v in network_data.items() if c.endswith(\"_col\")]\n",
    "data = nhd_io.read(network_data[\"geo_file_path\"])\n",
    "data = data[cols]\n",
    "data = data.set_index(network_data[\"key_col\"])\n",
    "\n",
    "# mask NHDNetwork to isolate test network of choice\n",
    "if \"mask_file_path\" in network_data:\n",
    "    data_mask = nhd_io.read_mask(\n",
    "        network_data[\"mask_file_path\"],\n",
    "        layer_string=network_data[\"mask_layer_string\"],\n",
    "    )\n",
    "    data = data.filter(data_mask.iloc[:, network_data[\"mask_key\"]], axis=0)\n",
    "\n",
    "# sort index\n",
    "data = data.sort_index()\n",
    "\n",
    "# replace downstreams\n",
    "data = nhd_io.replace_downstreams(data, network_data['downstream_col'], 0)\n",
    "\n",
    "# extract downstream connections for each node\n",
    "connections = nhd_network.extract_connections(data, network_data[\"downstream_col\"])\n",
    "\n",
    "print(\"supernetwork connections set created.\")"
   ]
  },
  {
   "cell_type": "markdown",
   "metadata": {},
   "source": [
    "# Organize supernetwork into subnetworks and reaches\n",
    "Once the supernetwork is identified and analyzed, we proceed by breaking the supernetwork into computationally independent subnetworks, and further breaking subnetworks into reaches. Additional details regarding this step can be found in a companion notebook: `network-analysis.ipnyb` "
   ]
  },
  {
   "cell_type": "code",
   "execution_count": 4,
   "metadata": {},
   "outputs": [
    {
     "name": "stdout",
     "output_type": "stream",
     "text": [
      "Organizing segments into reaches.\n",
      "Reach creation complete.\n"
     ]
    }
   ],
   "source": [
    "print(\"Organizing segments into reaches.\")\n",
    "\n",
    "# reverse the network - track upstream connections\n",
    "rconn = nhd_network.reverse_network(connections)\n",
    "\n",
    "# isolate independent subnetworks\n",
    "subnets = nhd_network.reachable_network(rconn)\n",
    "\n",
    "# identify the segments in each subnetwork\n",
    "subreachable = nhd_network.reachable(rconn)\n",
    "\n",
    "# break each subnetwork into reaches \n",
    "subreaches = {}\n",
    "for tw, net in subnets.items():\n",
    "    path_func = partial(nhd_network.split_at_junction, net)\n",
    "    subreaches[tw] = nhd_network.dfs_decomposition(net, path_func)  \n",
    "\n",
    "print(\"Reach creation complete.\")    "
   ]
  },
  {
   "cell_type": "markdown",
   "metadata": {},
   "source": [
    "# Create a lateral inflow series\n",
    "In our experiment we will load the river network with a pulse of lateral inflows and observe how the network fills and drains in response. The function `step_lats` below divides the time domain into ten equal intervals. A pulse of lateral inflows is applied to the second and third intervals. You can replace this function with another function of your choice, or simulated lateral flows from a hydrologic model.\n",
    "\n",
    "*eventually, we would like to have the routing scheme accept lateral inflow data from WRF-hydro. So long as these data can be formatted into a DataFrame similar to `qlats`, there should be no problems*"
   ]
  },
  {
   "cell_type": "code",
   "execution_count": 5,
   "metadata": {},
   "outputs": [
    {
     "data": {
      "image/png": "[encoded data removed]",
      "text/plain": [
       "<Figure size 432x288 with 1 Axes>"
      ]
     },
     "metadata": {
      "needs_background": "light"
     },
     "output_type": "display_data"
    }
   ],
   "source": [
    "def step_qlats(data, nsteps, qlat):\n",
    "    \n",
    "    q1 = np.full((len(data.index), nsteps//10), 0, dtype='float32')\n",
    "    q2 = np.full((len(data.index), nsteps//10), qlat, dtype='float32')\n",
    "    q3 = np.full((len(data.index), nsteps//10), qlat, dtype='float32')\n",
    "    q4 = np.full((len(data.index), nsteps//10), 0, dtype='float32')\n",
    "    q5 = np.full((len(data.index), nsteps//10), 0, dtype = 'float32')\n",
    "    q6 = np.full((len(data.index), nsteps//10), 0, dtype='float32')\n",
    "    q7 = np.full((len(data.index), nsteps//10), 0, dtype='float32')\n",
    "    q8 = np.full((len(data.index), nsteps//10), 0, dtype='float32')\n",
    "    q9 = np.full((len(data.index), nsteps//10), 0, dtype='float32')\n",
    "    q10 = np.full((len(data.index), nsteps//10), 0, dtype='float32')\n",
    "    \n",
    "    q= np.concatenate((q1,q2,q3,q4,q5,q6,q7,q8,q9,q10),axis=1)\n",
    "    \n",
    "    ql = pd.DataFrame(q, index=data.index, columns=range(nsteps))\n",
    "    \n",
    "    return ql\n",
    "\n",
    "# create the lateral inflow data\n",
    "qlats = step_qlats(data, nts, 10.0)\n",
    "\n",
    "# plot lateral inflow series\n",
    " # plot the timeseris of lateral inflow loading\n",
    "qlats.iloc[1].plot(color = 'r', linewidth = 2)\n",
    "\n",
    "ax = plt.gca()\n",
    "ax.set_title(\"Lateral Inflow Loading\", size = 20)\n",
    "ax.set_ylabel(\"Lateral Inflow (cms per node)\", size = 14)\n",
    "ax.set_xlabel(\"Simulated Timestep\", size = 14)\n",
    "\n",
    "plt.show()"
   ]
  },
  {
   "cell_type": "markdown",
   "metadata": {},
   "source": [
    "# Execute Muskingum-Cunge model over the Colorado River Basin\n",
    "Now that we have analyzed the network and specified lateral inflows, we can go ahead and compute the routing. Here, we compute routing through a single subnetwork, the Colorado River Basin, as an example. In practice `mc_reach.compute_network` is called for each subnetwork in the supernetwork in the context of a for-loop. \n",
    "\n",
    "`mc_reach.compute_network` calls the Muskingum-Cunge model for each segment of each reach in the network. Reaches are evaluated in an upstream-to-downstream order and reach connections are tracked to maintain mass balance at reach intersections and junctions. \n",
    "\n",
    "### *note* regarding `mc_reach`\n",
    "`mc_reach` is a cython c-extension for Python. To use this function, we must first create shared object files that can be easily called by Python.  See `t-route/src/fortran_routing/mc_pylink_v00/MC_singleSeg_singleTS/compile_singleSeg_cython.md` for instructions on how to do this. If you are running this notebook through Google Colab, shared object files are created automatically in the first cell. If not, we assume that you have already created these files. "
   ]
  },
  {
   "cell_type": "code",
   "execution_count": 6,
   "metadata": {},
   "outputs": [
    {
     "name": "stdout",
     "output_type": "stream",
     "text": [
      "Conducting routing computations for the Mississippi River Basin - this may take a while...\n",
      "Routing computations complete!\n",
      "... in 0.7395378311475118 minutes.\n"
     ]
    }
   ],
   "source": [
    "# initialize a results matrix\n",
    "results = []\n",
    "\n",
    "# Isolate the Mississippi River Basin from the supernetwork\n",
    "# tw = 22811611  # this is the tailwater ID of the Mississippi Basin, ! TODO - a better way to index basins by name...  \n",
    "tw = 21412883 # colorado basin\n",
    "reach = subreaches[tw]    \n",
    "\n",
    "start_time = time.time()\n",
    "print(\"Conducting routing computations for the Mississippi River Basin - this may take a while...\")\n",
    "\n",
    "# get a list of segments in the subnetwork\n",
    "r =list(filter(None, chain.from_iterable(reach))) \n",
    "\n",
    "# add a dt column to the data DataFrame\n",
    "data['dt'] = dt\n",
    "\n",
    "# rename columns to specific variable names expected by mc_reach.compute_network\n",
    "column_rename = {\n",
    "        network_data['length_col']: 'dx',\n",
    "        network_data['topwidth_col']: 'tw',\n",
    "        network_data['topwidthcc_col']: 'twcc',\n",
    "        network_data['bottomwidth_col']: 'bw',\n",
    "        network_data['manningncc_col']: 'ncc',\n",
    "        network_data['slope_col']: 's0',\n",
    "        network_data['ChSlp_col']: 'cs',\n",
    "        network_data['manningn_col']: 'n'\n",
    "    }\n",
    "\n",
    "data = data.rename(columns=column_rename)\n",
    "\n",
    "# change variables to type float32, as expected by mc_reach.compute_network\n",
    "data = data.astype('float32')\n",
    "\n",
    "# prep parameter and lateral inflow data to be fed to routing model\n",
    "data_sub = data.loc[r, ['dt', 'bw', 'tw', 'twcc', 'dx', 'n', 'ncc', 'cs', 's0']].sort_index()\n",
    "qlat_sub = qlats.loc[r].sort_index()\n",
    "  \n",
    "# compute the network routing, calculate (flow, depth, and velocity)    \n",
    "results.append(mc_reach.compute_network(\n",
    "    nts, reach, subnets[tw], data_sub.index.values, data_sub.columns.values, data_sub.values, qlat_sub.values\n",
    "    )\n",
    ")\n",
    "\n",
    "# create a multi-index DataFrame with flow, depth, and velocity simulations\n",
    "fdv_columns = pd.MultiIndex.from_product([range(nts), ['q', 'v', 'd']])\n",
    "flowveldepth = pd.concat([pd.DataFrame(d, index=i, columns=fdv_columns) for i, d in results], copy=False)\n",
    "flowveldepth = flowveldepth.sort_index()\n",
    "\n",
    "print(\"Routing computations complete!\")\n",
    "print(\"... in %s minutes.\" % ((time.time() - start_time)/60))"
   ]
  },
  {
   "cell_type": "markdown",
   "metadata": {},
   "source": [
    "# Extract simulated flow data for each segment in the Mississippi River Basin subnetwork"
   ]
  },
  {
   "cell_type": "code",
   "execution_count": 7,
   "metadata": {},
   "outputs": [],
   "source": [
    "# grab simulated flows for all segments in the network\n",
    "# [i, j, k]:\n",
    "# i = index values for each segment\n",
    "# j = all times\n",
    "# k = the parameter of interest\n",
    "network_flows = flowveldepth.loc[:, (slice(None), 'q')]"
   ]
  },
  {
   "cell_type": "markdown",
   "metadata": {},
   "source": [
    "# Create a GeoDataFrame for viz purposes"
   ]
  },
  {
   "cell_type": "code",
   "execution_count": 9,
   "metadata": {},
   "outputs": [
    {
     "data": {
      "text/plain": [
       "<matplotlib.axes._subplots.AxesSubplot at 0x7fe131431be0>"
      ]
     },
     "execution_count": 9,
     "metadata": {},
     "output_type": "execute_result"
    },
    {
     "data": {
      "image/png": "[encoded data removed]",
      "text/plain": [
       "<Figure size 432x288 with 1 Axes>"
      ]
     },
     "metadata": {
      "needs_background": "light"
     },
     "output_type": "display_data"
    }
   ],
   "source": [
    "# create a GeoDataFrame of points for each link in the stream network\n",
    "dat_geo = nhd_io.read(network_data[\"geo_file_path\"])\n",
    "dat_geo = dat_geo.set_index(network_data[\"key_col\"])\n",
    "\n",
    "if \"mask_file_path\" in network_data:\n",
    "        data_mask = nhd_io.read_mask(\n",
    "            network_data[\"mask_file_path\"],\n",
    "            layer_string=network_data[\"mask_layer_string\"],\n",
    "        )\n",
    "        dat_geo = dat_geo.filter(data_mask.iloc[:, network_data[\"mask_key\"]], axis=0)\n",
    "\n",
    "# create a GeoData Frame        \n",
    "gdf = geopandas.GeoDataFrame(dat_geo, geometry=geopandas.points_from_xy(dat_geo.lon, dat_geo.lat))\n",
    "\n",
    "# clip the GeoDataFrame to include ONLY segments in the specified river network\n",
    "network_segs = subreachable[tw]\n",
    "network_gdf = gdf.loc[gdf.index.isin(network_segs)]"
   ]
  },
  {
   "cell_type": "markdown",
   "metadata": {},
   "source": [
    "# Create an animation showing flow changes through space and time"
   ]
  },
  {
   "cell_type": "code",
   "execution_count": 10,
   "metadata": {},
   "outputs": [],
   "source": [
    "import gif\n",
    "from mpl_toolkits.axes_grid1 import make_axes_locatable\n",
    "\n",
    "# network geodata framee\n",
    "network_gdf = gdf.loc[gdf.index.isin(network_segs)]\n",
    "\n",
    "@gif.frame\n",
    "def plot(tstep):\n",
    "    \n",
    "    first_flow = network_flows.loc[:, ((tstep), 'q')]\n",
    " \n",
    "    joined_gdf = network_gdf.join(first_flow)\n",
    "    joined_gdf = joined_gdf.rename(columns = {joined_gdf.columns[-1] : 'flow'})\n",
    "    \n",
    "    # create a figure showing spatial variations in simulated flow and the lateral flow loading\n",
    "    fig = plt.figure(constrained_layout=True)\n",
    "    gs = fig.add_gridspec(4, 3)\n",
    "    ax1 = fig.add_subplot(gs[0:2, :]) # we will make a map on ax1\n",
    "    ax2 = fig.add_subplot(gs[2:3,:])  # we will make a line plot on ax2\n",
    "\n",
    "    # need to adjust the size and position of the map colorbar\n",
    "    divider = make_axes_locatable(ax1)\n",
    "    cax = divider.append_axes(\"right\", size=\"5%\", pad=0.1)\n",
    "\n",
    "    # plot the spatial variation in simulated flow rate, across all stream segments in the network\n",
    "    joined_gdf.plot(markersize = 5, \n",
    "                    column = \"flow\", \n",
    "                    cmap = 'PuBu', \n",
    "                    legend = True, \n",
    "                    vmin = 0, \n",
    "                    vmax = 20000,\n",
    "                    ax = ax1, \n",
    "                    cax = cax, \n",
    "                    legend_kwds={'label': \"Flow (cms)\",\n",
    "                             'orientation': \"vertical\"})\n",
    "\n",
    "    # map title and axis controls\n",
    "    ax1.set_title(\"Colorado River Basin\", size = 20)\n",
    "    ax1.axis('off')\n",
    "\n",
    "    # plot the timeseris of lateral inflow loading\n",
    "    qlats.iloc[1][0:tstep].plot(ax = ax2, color = 'r', linewidth = 2) # ! make the 5 = tstep\n",
    "    ax2.set_xlim([0, 8000])\n",
    "    ax2.set_ylim([0, 11])\n",
    "    ax2.set_title(\"Lateral Inflow Loading\", size = 20)\n",
    "    ax2.set_ylabel(\"Lateral Inflow (cms per node)\", size = 14)\n",
    "    ax2.set_xlabel(\"Simulated Timestep\", size = 14)\n",
    "\n",
    "    # adjsut the figure size\n",
    "    fig.set_size_inches(10, 10)\n",
    "\n",
    "frames = []\n",
    "for i in range(0,8000,100):\n",
    "    \n",
    "    frame = plot(i)\n",
    "    \n",
    "    frames.append(frame)\n",
    "\n",
    "gif.save(frames, \"../doc/colorado.gif\", duration = 10)"
   ]
  },
  {
   "cell_type": "code",
   "execution_count": null,
   "metadata": {},
   "outputs": [],
   "source": []
  }
 ],
 "metadata": {
  "kernelspec": {
   "display_name": "Python 3",
   "language": "python",
   "name": "python3"
  },
  "language_info": {
   "codemirror_mode": {
    "name": "ipython",
    "version": 3
   },
   "file_extension": ".py",
   "mimetype": "text/x-python",
   "name": "python",
   "nbconvert_exporter": "python",
   "pygments_lexer": "ipython3",
   "version": "3.8.2"
  }
 },
 "nbformat": 4,
 "nbformat_minor": 4
}
